{
 "cells": [
  {
   "cell_type": "markdown",
   "id": "f6b32a34-13dd-45eb-8f66-54bb6485d1f6",
   "metadata": {},
   "source": [
    "# CLOUD HEALTH DIAGNOSTICS"
   ]
  },
  {
   "cell_type": "code",
   "execution_count": 72,
   "id": "22e9db9a-6c2f-495a-b600-e15f7e570f91",
   "metadata": {},
   "outputs": [
    {
     "data": {
      "text/plain": [
       "'/Users/sibikarthik/**R2S PROJECT'"
      ]
     },
     "execution_count": 72,
     "metadata": {},
     "output_type": "execute_result"
    }
   ],
   "source": [
    "import os\n",
    "os.getcwd()"
   ]
  },
  {
   "cell_type": "code",
   "execution_count": null,
   "id": "9aee840c-e67b-49b0-b9de-c46cec5ef00b",
   "metadata": {
    "scrolled": true
   },
   "outputs": [],
   "source": [
    "conda install -c conda-forge jupyterthemes\n",
    "!jt -l\n",
    "!jt -t theme-name\n",
    "!jt -r"
   ]
  },
  {
   "cell_type": "markdown",
   "id": "d101bd5d-386b-4ea7-95b5-f652acdf477e",
   "metadata": {},
   "source": [
    "####\n",
    "### Dataset & Project Workflow\n",
    "#### 1. Initial (X-Ray | MRI | CT Kidney | CT Chest Cancer)\n",
    "#### 2. X-Ray (Lungs) (COVID | Pneumonia | Normal)\n",
    "#### 3. MRI (Brain) (Glioma Tumor | Meningioma Tumor | No Tumor | Pituitary Tumor)\n",
    "#### 4. CT (Kidney) (Cyst | Normal | Stone | Tumor)\n",
    "#### 5. CT (Chest Cancer) (Adenocarcinoma | Large Cell Carcinoma | Normal | Squamous Cell Carcinoma)\n",
    "####"
   ]
  },
  {
   "cell_type": "code",
   "execution_count": 2,
   "id": "00383a77-afca-4d2c-9294-f4140c030552",
   "metadata": {
    "scrolled": true
   },
   "outputs": [
    {
     "name": "stdout",
     "output_type": "stream",
     "text": [
      "Collecting tensorflow\n",
      "  Downloading tensorflow-2.13.1-cp38-cp38-macosx_10_15_x86_64.whl.metadata (3.2 kB)\n",
      "Requirement already satisfied: absl-py>=1.0.0 in /Users/sibikarthik/env_tf/lib/python3.8/site-packages (from tensorflow) (2.1.0)\n",
      "Requirement already satisfied: astunparse>=1.6.0 in /Users/sibikarthik/env_tf/lib/python3.8/site-packages (from tensorflow) (1.6.3)\n",
      "Requirement already satisfied: flatbuffers>=23.1.21 in /Users/sibikarthik/env_tf/lib/python3.8/site-packages (from tensorflow) (24.3.25)\n",
      "Requirement already satisfied: gast<=0.4.0,>=0.2.1 in /Users/sibikarthik/env_tf/lib/python3.8/site-packages (from tensorflow) (0.4.0)\n",
      "Requirement already satisfied: google-pasta>=0.1.1 in /Users/sibikarthik/env_tf/lib/python3.8/site-packages (from tensorflow) (0.2.0)\n",
      "Requirement already satisfied: h5py>=2.9.0 in /Users/sibikarthik/env_tf/lib/python3.8/site-packages (from tensorflow) (3.11.0)\n",
      "Requirement already satisfied: libclang>=13.0.0 in /Users/sibikarthik/env_tf/lib/python3.8/site-packages (from tensorflow) (18.1.1)\n",
      "Requirement already satisfied: numpy<=1.24.3,>=1.22 in /Users/sibikarthik/env_tf/lib/python3.8/site-packages (from tensorflow) (1.23.5)\n",
      "Requirement already satisfied: opt-einsum>=2.3.2 in /Users/sibikarthik/env_tf/lib/python3.8/site-packages (from tensorflow) (3.4.0)\n",
      "Requirement already satisfied: packaging in /Users/sibikarthik/env_tf/lib/python3.8/site-packages (from tensorflow) (24.1)\n",
      "Requirement already satisfied: protobuf!=4.21.0,!=4.21.1,!=4.21.2,!=4.21.3,!=4.21.4,!=4.21.5,<5.0.0dev,>=3.20.3 in /Users/sibikarthik/env_tf/lib/python3.8/site-packages (from tensorflow) (4.25.5)\n",
      "Requirement already satisfied: setuptools in /Users/sibikarthik/env_tf/lib/python3.8/site-packages (from tensorflow) (75.1.0)\n",
      "Requirement already satisfied: six>=1.12.0 in /Users/sibikarthik/env_tf/lib/python3.8/site-packages (from tensorflow) (1.16.0)\n",
      "Requirement already satisfied: termcolor>=1.1.0 in /Users/sibikarthik/env_tf/lib/python3.8/site-packages (from tensorflow) (2.4.0)\n",
      "Collecting typing-extensions<4.6.0,>=3.6.6 (from tensorflow)\n",
      "  Downloading typing_extensions-4.5.0-py3-none-any.whl.metadata (8.5 kB)\n",
      "Requirement already satisfied: wrapt>=1.11.0 in /Users/sibikarthik/env_tf/lib/python3.8/site-packages (from tensorflow) (1.14.1)\n",
      "Requirement already satisfied: grpcio<2.0,>=1.24.3 in /Users/sibikarthik/env_tf/lib/python3.8/site-packages (from tensorflow) (1.68.0)\n",
      "Collecting tensorboard<2.14,>=2.13 (from tensorflow)\n",
      "  Downloading tensorboard-2.13.0-py3-none-any.whl.metadata (1.8 kB)\n",
      "Collecting tensorflow-estimator<2.14,>=2.13.0 (from tensorflow)\n",
      "  Downloading tensorflow_estimator-2.13.0-py2.py3-none-any.whl.metadata (1.3 kB)\n",
      "Collecting keras<2.14,>=2.13.1 (from tensorflow)\n",
      "  Downloading keras-2.13.1-py3-none-any.whl.metadata (2.4 kB)\n",
      "Requirement already satisfied: tensorflow-io-gcs-filesystem>=0.23.1 in /Users/sibikarthik/env_tf/lib/python3.8/site-packages (from tensorflow) (0.34.0)\n",
      "Requirement already satisfied: wheel<1.0,>=0.23.0 in /Users/sibikarthik/env_tf/lib/python3.8/site-packages (from astunparse>=1.6.0->tensorflow) (0.44.0)\n",
      "Requirement already satisfied: google-auth<3,>=1.6.3 in /Users/sibikarthik/env_tf/lib/python3.8/site-packages (from tensorboard<2.14,>=2.13->tensorflow) (2.36.0)\n",
      "Requirement already satisfied: google-auth-oauthlib<1.1,>=0.5 in /Users/sibikarthik/env_tf/lib/python3.8/site-packages (from tensorboard<2.14,>=2.13->tensorflow) (1.0.0)\n",
      "Requirement already satisfied: markdown>=2.6.8 in /Users/sibikarthik/env_tf/lib/python3.8/site-packages (from tensorboard<2.14,>=2.13->tensorflow) (3.7)\n",
      "Requirement already satisfied: requests<3,>=2.21.0 in /Users/sibikarthik/env_tf/lib/python3.8/site-packages (from tensorboard<2.14,>=2.13->tensorflow) (2.32.3)\n",
      "Requirement already satisfied: tensorboard-data-server<0.8.0,>=0.7.0 in /Users/sibikarthik/env_tf/lib/python3.8/site-packages (from tensorboard<2.14,>=2.13->tensorflow) (0.7.2)\n",
      "Requirement already satisfied: werkzeug>=1.0.1 in /Users/sibikarthik/env_tf/lib/python3.8/site-packages (from tensorboard<2.14,>=2.13->tensorflow) (3.0.6)\n",
      "Requirement already satisfied: cachetools<6.0,>=2.0.0 in /Users/sibikarthik/env_tf/lib/python3.8/site-packages (from google-auth<3,>=1.6.3->tensorboard<2.14,>=2.13->tensorflow) (5.5.0)\n",
      "Requirement already satisfied: pyasn1-modules>=0.2.1 in /Users/sibikarthik/env_tf/lib/python3.8/site-packages (from google-auth<3,>=1.6.3->tensorboard<2.14,>=2.13->tensorflow) (0.4.1)\n",
      "Requirement already satisfied: rsa<5,>=3.1.4 in /Users/sibikarthik/env_tf/lib/python3.8/site-packages (from google-auth<3,>=1.6.3->tensorboard<2.14,>=2.13->tensorflow) (4.9)\n",
      "Requirement already satisfied: requests-oauthlib>=0.7.0 in /Users/sibikarthik/env_tf/lib/python3.8/site-packages (from google-auth-oauthlib<1.1,>=0.5->tensorboard<2.14,>=2.13->tensorflow) (2.0.0)\n",
      "Requirement already satisfied: importlib-metadata>=4.4 in /Users/sibikarthik/env_tf/lib/python3.8/site-packages (from markdown>=2.6.8->tensorboard<2.14,>=2.13->tensorflow) (7.0.1)\n",
      "Requirement already satisfied: charset-normalizer<4,>=2 in /Users/sibikarthik/env_tf/lib/python3.8/site-packages (from requests<3,>=2.21.0->tensorboard<2.14,>=2.13->tensorflow) (3.3.2)\n",
      "Requirement already satisfied: idna<4,>=2.5 in /Users/sibikarthik/env_tf/lib/python3.8/site-packages (from requests<3,>=2.21.0->tensorboard<2.14,>=2.13->tensorflow) (3.10)\n",
      "Requirement already satisfied: urllib3<3,>=1.21.1 in /Users/sibikarthik/env_tf/lib/python3.8/site-packages (from requests<3,>=2.21.0->tensorboard<2.14,>=2.13->tensorflow) (2.2.3)\n",
      "Requirement already satisfied: certifi>=2017.4.17 in /Users/sibikarthik/env_tf/lib/python3.8/site-packages (from requests<3,>=2.21.0->tensorboard<2.14,>=2.13->tensorflow) (2024.8.30)\n",
      "Requirement already satisfied: MarkupSafe>=2.1.1 in /Users/sibikarthik/env_tf/lib/python3.8/site-packages (from werkzeug>=1.0.1->tensorboard<2.14,>=2.13->tensorflow) (2.1.3)\n",
      "Requirement already satisfied: zipp>=0.5 in /Users/sibikarthik/env_tf/lib/python3.8/site-packages (from importlib-metadata>=4.4->markdown>=2.6.8->tensorboard<2.14,>=2.13->tensorflow) (3.20.2)\n",
      "Requirement already satisfied: pyasn1<0.7.0,>=0.4.6 in /Users/sibikarthik/env_tf/lib/python3.8/site-packages (from pyasn1-modules>=0.2.1->google-auth<3,>=1.6.3->tensorboard<2.14,>=2.13->tensorflow) (0.6.1)\n",
      "Requirement already satisfied: oauthlib>=3.0.0 in /Users/sibikarthik/env_tf/lib/python3.8/site-packages (from requests-oauthlib>=0.7.0->google-auth-oauthlib<1.1,>=0.5->tensorboard<2.14,>=2.13->tensorflow) (3.2.2)\n",
      "Downloading tensorflow-2.13.1-cp38-cp38-macosx_10_15_x86_64.whl (216.2 MB)\n",
      "\u001b[2K   \u001b[90m━━━━━━━━━━━━━━━━━━━━━━━━━━━━━━━━━━━━━━━━\u001b[0m \u001b[32m216.2/216.2 MB\u001b[0m \u001b[31m1.5 MB/s\u001b[0m eta \u001b[36m0:00:00\u001b[0m00:01\u001b[0m00:04\u001b[0m\n",
      "\u001b[?25hDownloading keras-2.13.1-py3-none-any.whl (1.7 MB)\n",
      "\u001b[2K   \u001b[90m━━━━━━━━━━━━━━━━━━━━━━━━━━━━━━━━━━━━━━━━\u001b[0m \u001b[32m1.7/1.7 MB\u001b[0m \u001b[31m1.0 MB/s\u001b[0m eta \u001b[36m0:00:00\u001b[0ma \u001b[36m0:00:01\u001b[0m\n",
      "\u001b[?25hDownloading tensorboard-2.13.0-py3-none-any.whl (5.6 MB)\n",
      "\u001b[2K   \u001b[90m━━━━━━━━━━━━━━━━━━━━━━━━━━━━━━━━━━━━━━━━\u001b[0m \u001b[32m5.6/5.6 MB\u001b[0m \u001b[31m1.2 MB/s\u001b[0m eta \u001b[36m0:00:00\u001b[0ma \u001b[36m0:00:01\u001b[0m0m\n",
      "\u001b[?25hDownloading tensorflow_estimator-2.13.0-py2.py3-none-any.whl (440 kB)\n",
      "Downloading typing_extensions-4.5.0-py3-none-any.whl (27 kB)\n",
      "Installing collected packages: typing-extensions, tensorflow-estimator, keras, tensorboard, tensorflow\n",
      "  Attempting uninstall: typing-extensions\n",
      "    Found existing installation: typing_extensions 4.11.0\n",
      "    Uninstalling typing_extensions-4.11.0:\n",
      "      Successfully uninstalled typing_extensions-4.11.0\n",
      "  Attempting uninstall: tensorflow-estimator\n",
      "    Found existing installation: tensorflow-estimator 2.12.0\n",
      "    Uninstalling tensorflow-estimator-2.12.0:\n",
      "      Successfully uninstalled tensorflow-estimator-2.12.0\n",
      "  Attempting uninstall: keras\n",
      "    Found existing installation: keras 2.12.0\n",
      "    Uninstalling keras-2.12.0:\n",
      "      Successfully uninstalled keras-2.12.0\n",
      "  Attempting uninstall: tensorboard\n",
      "    Found existing installation: tensorboard 2.12.3\n",
      "    Uninstalling tensorboard-2.12.3:\n",
      "      Successfully uninstalled tensorboard-2.12.3\n",
      "\u001b[31mERROR: pip's dependency resolver does not currently take into account all the packages that are installed. This behaviour is the source of the following dependency conflicts.\n",
      "tensorflow-macos 2.12.0 requires keras<2.13,>=2.12.0, but you have keras 2.13.1 which is incompatible.\n",
      "tensorflow-macos 2.12.0 requires tensorboard<2.13,>=2.12, but you have tensorboard 2.13.0 which is incompatible.\n",
      "tensorflow-macos 2.12.0 requires tensorflow-estimator<2.13,>=2.12.0, but you have tensorflow-estimator 2.13.0 which is incompatible.\u001b[0m\u001b[31m\n",
      "\u001b[0mSuccessfully installed keras-2.13.1 tensorboard-2.13.0 tensorflow-2.13.1 tensorflow-estimator-2.13.0 typing-extensions-4.12.2\n"
     ]
    }
   ],
   "source": [
    "!pip install tensorflow"
   ]
  },
  {
   "cell_type": "code",
   "execution_count": 3,
   "id": "4513606c-5d22-4648-8384-9cf798363b14",
   "metadata": {
    "scrolled": true
   },
   "outputs": [
    {
     "name": "stdout",
     "output_type": "stream",
     "text": [
      "Requirement already satisfied: tensorflow-hub in /Users/sibikarthik/env_tf/lib/python3.8/site-packages (0.16.1)\n",
      "Requirement already satisfied: numpy>=1.12.0 in /Users/sibikarthik/env_tf/lib/python3.8/site-packages (from tensorflow-hub) (1.23.5)\n",
      "Requirement already satisfied: protobuf>=3.19.6 in /Users/sibikarthik/env_tf/lib/python3.8/site-packages (from tensorflow-hub) (4.25.5)\n",
      "Requirement already satisfied: tf-keras>=2.14.1 in /Users/sibikarthik/env_tf/lib/python3.8/site-packages (from tensorflow-hub) (2.15.0)\n"
     ]
    }
   ],
   "source": [
    "!pip install tensorflow-hub"
   ]
  },
  {
   "cell_type": "code",
   "execution_count": 4,
   "id": "61b7eb76-22aa-442a-8633-7ceeac026f82",
   "metadata": {
    "scrolled": true
   },
   "outputs": [
    {
     "name": "stdout",
     "output_type": "stream",
     "text": [
      "Requirement already satisfied: scikit-plot in /Users/sibikarthik/env_tf/lib/python3.8/site-packages (0.3.7)\n",
      "Requirement already satisfied: matplotlib>=1.4.0 in /Users/sibikarthik/env_tf/lib/python3.8/site-packages (from scikit-plot) (3.7.2)\n",
      "Requirement already satisfied: scikit-learn>=0.18 in /Users/sibikarthik/env_tf/lib/python3.8/site-packages (from scikit-plot) (1.3.0)\n",
      "Requirement already satisfied: scipy>=0.9 in /Users/sibikarthik/env_tf/lib/python3.8/site-packages (from scikit-plot) (1.10.1)\n",
      "Requirement already satisfied: joblib>=0.10 in /Users/sibikarthik/env_tf/lib/python3.8/site-packages (from scikit-plot) (1.4.2)\n",
      "Requirement already satisfied: contourpy>=1.0.1 in /Users/sibikarthik/env_tf/lib/python3.8/site-packages (from matplotlib>=1.4.0->scikit-plot) (1.0.5)\n",
      "Requirement already satisfied: cycler>=0.10 in /Users/sibikarthik/env_tf/lib/python3.8/site-packages (from matplotlib>=1.4.0->scikit-plot) (0.11.0)\n",
      "Requirement already satisfied: fonttools>=4.22.0 in /Users/sibikarthik/env_tf/lib/python3.8/site-packages (from matplotlib>=1.4.0->scikit-plot) (4.51.0)\n",
      "Requirement already satisfied: kiwisolver>=1.0.1 in /Users/sibikarthik/env_tf/lib/python3.8/site-packages (from matplotlib>=1.4.0->scikit-plot) (1.4.4)\n",
      "Requirement already satisfied: numpy>=1.20 in /Users/sibikarthik/env_tf/lib/python3.8/site-packages (from matplotlib>=1.4.0->scikit-plot) (1.23.5)\n",
      "Requirement already satisfied: packaging>=20.0 in /Users/sibikarthik/env_tf/lib/python3.8/site-packages (from matplotlib>=1.4.0->scikit-plot) (24.1)\n",
      "Requirement already satisfied: pillow>=6.2.0 in /Users/sibikarthik/env_tf/lib/python3.8/site-packages (from matplotlib>=1.4.0->scikit-plot) (10.4.0)\n",
      "Requirement already satisfied: pyparsing<3.1,>=2.3.1 in /Users/sibikarthik/env_tf/lib/python3.8/site-packages (from matplotlib>=1.4.0->scikit-plot) (3.0.9)\n",
      "Requirement already satisfied: python-dateutil>=2.7 in /Users/sibikarthik/env_tf/lib/python3.8/site-packages (from matplotlib>=1.4.0->scikit-plot) (2.9.0.post0)\n",
      "Requirement already satisfied: importlib-resources>=3.2.0 in /Users/sibikarthik/env_tf/lib/python3.8/site-packages (from matplotlib>=1.4.0->scikit-plot) (6.4.0)\n",
      "Requirement already satisfied: threadpoolctl>=2.0.0 in /Users/sibikarthik/env_tf/lib/python3.8/site-packages (from scikit-learn>=0.18->scikit-plot) (3.5.0)\n",
      "Requirement already satisfied: zipp>=3.1.0 in /Users/sibikarthik/env_tf/lib/python3.8/site-packages (from importlib-resources>=3.2.0->matplotlib>=1.4.0->scikit-plot) (3.20.2)\n",
      "Requirement already satisfied: six>=1.5 in /Users/sibikarthik/env_tf/lib/python3.8/site-packages (from python-dateutil>=2.7->matplotlib>=1.4.0->scikit-plot) (1.16.0)\n"
     ]
    }
   ],
   "source": [
    "!pip install scikit-plot"
   ]
  },
  {
   "cell_type": "code",
   "execution_count": 5,
   "id": "7aa01772-734f-4f39-a652-c2fcc82b25e2",
   "metadata": {
    "scrolled": true
   },
   "outputs": [
    {
     "name": "stdout",
     "output_type": "stream",
     "text": [
      "\u001b[31mERROR: Ignored the following versions that require a different python version: 1.11.0 Requires-Python <3.13,>=3.9; 1.11.0rc1 Requires-Python <3.13,>=3.9; 1.11.0rc2 Requires-Python <3.13,>=3.9; 1.11.1 Requires-Python <3.13,>=3.9; 1.11.2 Requires-Python <3.13,>=3.9; 1.11.3 Requires-Python <3.13,>=3.9; 1.11.4 Requires-Python >=3.9; 1.12.0 Requires-Python >=3.9; 1.12.0rc1 Requires-Python >=3.9; 1.12.0rc2 Requires-Python >=3.9; 1.13.0 Requires-Python >=3.9; 1.13.0rc1 Requires-Python >=3.9; 1.13.1 Requires-Python >=3.9; 1.14.0 Requires-Python >=3.10; 1.14.0rc1 Requires-Python >=3.10; 1.14.0rc2 Requires-Python >=3.10; 1.14.1 Requires-Python >=3.10\u001b[0m\u001b[31m\n",
      "\u001b[0m\u001b[31mERROR: Could not find a version that satisfies the requirement scipy==1.11.4 (from versions: 0.8.0, 0.9.0, 0.10.0, 0.10.1, 0.11.0, 0.12.0, 0.12.1, 0.13.0, 0.13.1, 0.13.2, 0.13.3, 0.14.0, 0.14.1, 0.15.0, 0.15.1, 0.16.0, 0.16.1, 0.17.0, 0.17.1, 0.18.0, 0.18.1, 0.19.0, 0.19.1, 1.0.0, 1.0.1, 1.1.0, 1.2.0, 1.2.1, 1.2.2, 1.2.3, 1.3.0, 1.3.1, 1.3.2, 1.3.3, 1.4.0, 1.4.1, 1.5.0, 1.5.1, 1.5.2, 1.5.3, 1.5.4, 1.6.0, 1.6.1, 1.6.2, 1.6.3, 1.7.0, 1.7.1, 1.7.2, 1.7.3, 1.8.0rc1, 1.8.0rc2, 1.8.0rc3, 1.8.0rc4, 1.8.0, 1.8.1, 1.9.0rc1, 1.9.0rc2, 1.9.0rc3, 1.9.0, 1.9.1, 1.9.2, 1.9.3, 1.10.0rc1, 1.10.0rc2, 1.10.0, 1.10.1)\u001b[0m\u001b[31m\n",
      "\u001b[0m\u001b[31mERROR: No matching distribution found for scipy==1.11.4\u001b[0m\u001b[31m\n",
      "\u001b[0m"
     ]
    }
   ],
   "source": [
    "!pip install scipy==1.11.4"
   ]
  },
  {
   "cell_type": "code",
   "execution_count": 6,
   "id": "319a48dd-4fba-459c-9e33-22cae121ba8b",
   "metadata": {},
   "outputs": [
    {
     "name": "stdout",
     "output_type": "stream",
     "text": [
      "1.9.3\n"
     ]
    }
   ],
   "source": [
    "import scipy\n",
    "print(scipy.__version__)"
   ]
  },
  {
   "cell_type": "code",
   "execution_count": 7,
   "id": "b584c021-58c8-4c27-b08d-328ed630fa12",
   "metadata": {
    "scrolled": true
   },
   "outputs": [
    {
     "name": "stdout",
     "output_type": "stream",
     "text": [
      "Requirement already satisfied: scikit-plot in /Users/sibikarthik/env_tf/lib/python3.8/site-packages (0.3.7)\n",
      "Requirement already satisfied: matplotlib>=1.4.0 in /Users/sibikarthik/env_tf/lib/python3.8/site-packages (from scikit-plot) (3.7.2)\n",
      "Requirement already satisfied: scikit-learn>=0.18 in /Users/sibikarthik/env_tf/lib/python3.8/site-packages (from scikit-plot) (1.3.0)\n",
      "Requirement already satisfied: scipy>=0.9 in /Users/sibikarthik/env_tf/lib/python3.8/site-packages (from scikit-plot) (1.10.1)\n",
      "Requirement already satisfied: joblib>=0.10 in /Users/sibikarthik/env_tf/lib/python3.8/site-packages (from scikit-plot) (1.4.2)\n",
      "Requirement already satisfied: contourpy>=1.0.1 in /Users/sibikarthik/env_tf/lib/python3.8/site-packages (from matplotlib>=1.4.0->scikit-plot) (1.0.5)\n",
      "Requirement already satisfied: cycler>=0.10 in /Users/sibikarthik/env_tf/lib/python3.8/site-packages (from matplotlib>=1.4.0->scikit-plot) (0.11.0)\n",
      "Requirement already satisfied: fonttools>=4.22.0 in /Users/sibikarthik/env_tf/lib/python3.8/site-packages (from matplotlib>=1.4.0->scikit-plot) (4.51.0)\n",
      "Requirement already satisfied: kiwisolver>=1.0.1 in /Users/sibikarthik/env_tf/lib/python3.8/site-packages (from matplotlib>=1.4.0->scikit-plot) (1.4.4)\n",
      "Requirement already satisfied: numpy>=1.20 in /Users/sibikarthik/env_tf/lib/python3.8/site-packages (from matplotlib>=1.4.0->scikit-plot) (1.23.5)\n",
      "Requirement already satisfied: packaging>=20.0 in /Users/sibikarthik/env_tf/lib/python3.8/site-packages (from matplotlib>=1.4.0->scikit-plot) (24.1)\n",
      "Requirement already satisfied: pillow>=6.2.0 in /Users/sibikarthik/env_tf/lib/python3.8/site-packages (from matplotlib>=1.4.0->scikit-plot) (10.4.0)\n",
      "Requirement already satisfied: pyparsing<3.1,>=2.3.1 in /Users/sibikarthik/env_tf/lib/python3.8/site-packages (from matplotlib>=1.4.0->scikit-plot) (3.0.9)\n",
      "Requirement already satisfied: python-dateutil>=2.7 in /Users/sibikarthik/env_tf/lib/python3.8/site-packages (from matplotlib>=1.4.0->scikit-plot) (2.9.0.post0)\n",
      "Requirement already satisfied: importlib-resources>=3.2.0 in /Users/sibikarthik/env_tf/lib/python3.8/site-packages (from matplotlib>=1.4.0->scikit-plot) (6.4.0)\n",
      "Requirement already satisfied: threadpoolctl>=2.0.0 in /Users/sibikarthik/env_tf/lib/python3.8/site-packages (from scikit-learn>=0.18->scikit-plot) (3.5.0)\n",
      "Requirement already satisfied: zipp>=3.1.0 in /Users/sibikarthik/env_tf/lib/python3.8/site-packages (from importlib-resources>=3.2.0->matplotlib>=1.4.0->scikit-plot) (3.20.2)\n",
      "Requirement already satisfied: six>=1.5 in /Users/sibikarthik/env_tf/lib/python3.8/site-packages (from python-dateutil>=2.7->matplotlib>=1.4.0->scikit-plot) (1.16.0)\n"
     ]
    }
   ],
   "source": [
    "!pip install scikit-plot"
   ]
  },
  {
   "cell_type": "code",
   "execution_count": 2,
   "id": "130239da-be90-495f-91f1-d4ac62c3f9b8",
   "metadata": {
    "scrolled": true
   },
   "outputs": [
    {
     "name": "stdout",
     "output_type": "stream",
     "text": [
      "Collecting seaborn\n",
      "  Using cached seaborn-0.13.2-py3-none-any.whl.metadata (5.4 kB)\n",
      "Requirement already satisfied: numpy!=1.24.0,>=1.20 in /Users/sibikarthik/env_tf/lib/python3.8/site-packages (from seaborn) (1.23.5)\n",
      "Requirement already satisfied: pandas>=1.2 in /Users/sibikarthik/env_tf/lib/python3.8/site-packages (from seaborn) (2.0.3)\n",
      "Requirement already satisfied: matplotlib!=3.6.1,>=3.4 in /Users/sibikarthik/env_tf/lib/python3.8/site-packages (from seaborn) (3.7.2)\n",
      "Requirement already satisfied: contourpy>=1.0.1 in /Users/sibikarthik/env_tf/lib/python3.8/site-packages (from matplotlib!=3.6.1,>=3.4->seaborn) (1.0.5)\n",
      "Requirement already satisfied: cycler>=0.10 in /Users/sibikarthik/env_tf/lib/python3.8/site-packages (from matplotlib!=3.6.1,>=3.4->seaborn) (0.11.0)\n",
      "Requirement already satisfied: fonttools>=4.22.0 in /Users/sibikarthik/env_tf/lib/python3.8/site-packages (from matplotlib!=3.6.1,>=3.4->seaborn) (4.51.0)\n",
      "Requirement already satisfied: kiwisolver>=1.0.1 in /Users/sibikarthik/env_tf/lib/python3.8/site-packages (from matplotlib!=3.6.1,>=3.4->seaborn) (1.4.4)\n",
      "Requirement already satisfied: packaging>=20.0 in /Users/sibikarthik/env_tf/lib/python3.8/site-packages (from matplotlib!=3.6.1,>=3.4->seaborn) (24.1)\n",
      "Requirement already satisfied: pillow>=6.2.0 in /Users/sibikarthik/env_tf/lib/python3.8/site-packages (from matplotlib!=3.6.1,>=3.4->seaborn) (10.4.0)\n",
      "Requirement already satisfied: pyparsing<3.1,>=2.3.1 in /Users/sibikarthik/env_tf/lib/python3.8/site-packages (from matplotlib!=3.6.1,>=3.4->seaborn) (3.0.9)\n",
      "Requirement already satisfied: python-dateutil>=2.7 in /Users/sibikarthik/env_tf/lib/python3.8/site-packages (from matplotlib!=3.6.1,>=3.4->seaborn) (2.9.0.post0)\n",
      "Requirement already satisfied: importlib-resources>=3.2.0 in /Users/sibikarthik/env_tf/lib/python3.8/site-packages (from matplotlib!=3.6.1,>=3.4->seaborn) (6.4.0)\n",
      "Requirement already satisfied: pytz>=2020.1 in /Users/sibikarthik/env_tf/lib/python3.8/site-packages (from pandas>=1.2->seaborn) (2024.1)\n",
      "Requirement already satisfied: tzdata>=2022.1 in /Users/sibikarthik/env_tf/lib/python3.8/site-packages (from pandas>=1.2->seaborn) (2023.3)\n",
      "Requirement already satisfied: zipp>=3.1.0 in /Users/sibikarthik/env_tf/lib/python3.8/site-packages (from importlib-resources>=3.2.0->matplotlib!=3.6.1,>=3.4->seaborn) (3.20.2)\n",
      "Requirement already satisfied: six>=1.5 in /Users/sibikarthik/env_tf/lib/python3.8/site-packages (from python-dateutil>=2.7->matplotlib!=3.6.1,>=3.4->seaborn) (1.16.0)\n",
      "Using cached seaborn-0.13.2-py3-none-any.whl (294 kB)\n",
      "Installing collected packages: seaborn\n",
      "Successfully installed seaborn-0.13.2\n",
      "Collecting tensorflow_hub\n",
      "  Using cached tensorflow_hub-0.16.1-py2.py3-none-any.whl.metadata (1.3 kB)\n",
      "Requirement already satisfied: numpy>=1.12.0 in /Users/sibikarthik/env_tf/lib/python3.8/site-packages (from tensorflow_hub) (1.23.5)\n",
      "Requirement already satisfied: protobuf>=3.19.6 in /Users/sibikarthik/env_tf/lib/python3.8/site-packages (from tensorflow_hub) (4.25.5)\n",
      "Collecting tf-keras>=2.14.1 (from tensorflow_hub)\n",
      "  Using cached tf_keras-2.15.1-py3-none-any.whl.metadata (1.7 kB)\n",
      "INFO: pip is looking at multiple versions of tf-keras to determine which version is compatible with other requirements. This could take a while.\n",
      "  Using cached tf_keras-2.15.0-py3-none-any.whl.metadata (1.6 kB)\n",
      "Using cached tensorflow_hub-0.16.1-py2.py3-none-any.whl (30 kB)\n",
      "Using cached tf_keras-2.15.0-py3-none-any.whl (1.7 MB)\n",
      "Installing collected packages: tf-keras, tensorflow_hub\n",
      "Successfully installed tensorflow_hub-0.16.1 tf-keras-2.15.0\n",
      "Collecting scikit-plot\n",
      "  Using cached scikit_plot-0.3.7-py3-none-any.whl.metadata (7.1 kB)\n",
      "Requirement already satisfied: matplotlib>=1.4.0 in /Users/sibikarthik/env_tf/lib/python3.8/site-packages (from scikit-plot) (3.7.2)\n",
      "Requirement already satisfied: scikit-learn>=0.18 in /Users/sibikarthik/env_tf/lib/python3.8/site-packages (from scikit-plot) (1.3.0)\n",
      "Requirement already satisfied: scipy>=0.9 in /Users/sibikarthik/env_tf/lib/python3.8/site-packages (from scikit-plot) (1.10.1)\n",
      "Requirement already satisfied: joblib>=0.10 in /Users/sibikarthik/env_tf/lib/python3.8/site-packages (from scikit-plot) (1.4.2)\n",
      "Requirement already satisfied: contourpy>=1.0.1 in /Users/sibikarthik/env_tf/lib/python3.8/site-packages (from matplotlib>=1.4.0->scikit-plot) (1.0.5)\n",
      "Requirement already satisfied: cycler>=0.10 in /Users/sibikarthik/env_tf/lib/python3.8/site-packages (from matplotlib>=1.4.0->scikit-plot) (0.11.0)\n",
      "Requirement already satisfied: fonttools>=4.22.0 in /Users/sibikarthik/env_tf/lib/python3.8/site-packages (from matplotlib>=1.4.0->scikit-plot) (4.51.0)\n",
      "Requirement already satisfied: kiwisolver>=1.0.1 in /Users/sibikarthik/env_tf/lib/python3.8/site-packages (from matplotlib>=1.4.0->scikit-plot) (1.4.4)\n",
      "Requirement already satisfied: numpy>=1.20 in /Users/sibikarthik/env_tf/lib/python3.8/site-packages (from matplotlib>=1.4.0->scikit-plot) (1.23.5)\n",
      "Requirement already satisfied: packaging>=20.0 in /Users/sibikarthik/env_tf/lib/python3.8/site-packages (from matplotlib>=1.4.0->scikit-plot) (24.1)\n",
      "Requirement already satisfied: pillow>=6.2.0 in /Users/sibikarthik/env_tf/lib/python3.8/site-packages (from matplotlib>=1.4.0->scikit-plot) (10.4.0)\n",
      "Requirement already satisfied: pyparsing<3.1,>=2.3.1 in /Users/sibikarthik/env_tf/lib/python3.8/site-packages (from matplotlib>=1.4.0->scikit-plot) (3.0.9)\n",
      "Requirement already satisfied: python-dateutil>=2.7 in /Users/sibikarthik/env_tf/lib/python3.8/site-packages (from matplotlib>=1.4.0->scikit-plot) (2.9.0.post0)\n",
      "Requirement already satisfied: importlib-resources>=3.2.0 in /Users/sibikarthik/env_tf/lib/python3.8/site-packages (from matplotlib>=1.4.0->scikit-plot) (6.4.0)\n",
      "Requirement already satisfied: threadpoolctl>=2.0.0 in /Users/sibikarthik/env_tf/lib/python3.8/site-packages (from scikit-learn>=0.18->scikit-plot) (3.5.0)\n",
      "Requirement already satisfied: zipp>=3.1.0 in /Users/sibikarthik/env_tf/lib/python3.8/site-packages (from importlib-resources>=3.2.0->matplotlib>=1.4.0->scikit-plot) (3.20.2)\n",
      "Requirement already satisfied: six>=1.5 in /Users/sibikarthik/env_tf/lib/python3.8/site-packages (from python-dateutil>=2.7->matplotlib>=1.4.0->scikit-plot) (1.16.0)\n",
      "Using cached scikit_plot-0.3.7-py3-none-any.whl (33 kB)\n",
      "Installing collected packages: scikit-plot\n",
      "Successfully installed scikit-plot-0.3.7\n"
     ]
    }
   ],
   "source": [
    "!pip install seaborn\n",
    "!pip install tensorflow_hub\n",
    "!pip install scikit-plot"
   ]
  },
  {
   "cell_type": "code",
   "execution_count": 3,
   "id": "45a1f1a7-8248-4ffc-a72e-d772c31e6da0",
   "metadata": {},
   "outputs": [
    {
     "name": "stderr",
     "output_type": "stream",
     "text": [
      "2024-11-18 12:51:24.250212: I tensorflow/core/platform/cpu_feature_guard.cc:182] This TensorFlow binary is optimized to use available CPU instructions in performance-critical operations.\n",
      "To enable the following instructions: SSE4.1 SSE4.2, in other operations, rebuild TensorFlow with the appropriate compiler flags.\n"
     ]
    }
   ],
   "source": [
    "import random\n",
    "import numpy as np\n",
    "import os\n",
    "import glob\n",
    "import time\n",
    "import pandas as pd\n",
    "import matplotlib.pyplot as plt\n",
    "import seaborn as sns\n",
    "\n",
    "import tensorflow as tf\n",
    "import tensorflow_hub as hub\n",
    "from tensorflow.keras import layers, Sequential\n",
    "from tensorflow.keras.utils import plot_model\n",
    "\n",
    "from sklearn.model_selection import train_test_split\n",
    "from sklearn.metrics import classification_report, precision_recall_fscore_support\n",
    "from sklearn.metrics import accuracy_score, f1_score, matthews_corrcoef\n",
    "from sklearn.metrics import confusion_matrix , ConfusionMatrixDisplay\n",
    "from scikitplot.metrics import plot_roc\n",
    "\n",
    "import warnings \n",
    "warnings.filterwarnings(\"ignore\")\n",
    "%matplotlib inline"
   ]
  },
  {
   "cell_type": "code",
   "execution_count": 4,
   "id": "34ba0397-0551-4f01-9b95-0e2de4fd41c7",
   "metadata": {},
   "outputs": [],
   "source": [
    "#Context-Free Grammar (CFG):\n",
    "class CFG:\n",
    "    EPOCHS= 50\n",
    "    BATCH_SIZE= 64\n",
    "    SEED= 42\n",
    "    TF_SEED= 768\n",
    "    HEIGHT= 224\n",
    "    WIDTH= 224\n",
    "    CHANNELS= 3\n",
    "    IMAGE_SIZE=(224,224,3)"
   ]
  },
  {
   "cell_type": "markdown",
   "id": "8f3253c4-0df7-4543-9a88-afe8ce240c21",
   "metadata": {},
   "source": [
    "#### Functions:"
   ]
  },
  {
   "cell_type": "code",
   "execution_count": 5,
   "id": "e4455cdf-4828-4c93-af4d-229347bc68a2",
   "metadata": {},
   "outputs": [],
   "source": [
    "def plot_bar(class_labels,counts,name):\n",
    "    plt.figure(figsize = (5,5))\n",
    "    f = sns.barplot(x = classes, y = counts)\n",
    "    plt.xlabel(\"Class labels\", fontsize=12)\n",
    "    plt.ylabel('Count', fontsize=12)\n",
    "    plt.tick_params(axis='x', rotation=45)\n",
    "    plt.title(\"Number of Images in \"+name+' folder', fontsize=15)\n",
    "    plt.show()\n",
    "\n",
    "def img_shapes(files,path):\n",
    "    shapes = []\n",
    "    for i in files:\n",
    "        img = cv2.imread(path+'/'+i)\n",
    "        shapes.append(img.shape)\n",
    "    return shapes"
   ]
  },
  {
   "cell_type": "markdown",
   "id": "c746af28-e377-44dc-a3b0-eca5f28ae110",
   "metadata": {},
   "source": [
    "###"
   ]
  },
  {
   "cell_type": "markdown",
   "id": "e39fa714-979e-4940-9fc5-78ebfc1e3804",
   "metadata": {},
   "source": [
    "### 1) Initial (X-Ray | MRI | CT - Kidney | CT - Chest Cancer) [CNN]"
   ]
  },
  {
   "cell_type": "code",
   "execution_count": 6,
   "id": "d610d424-3874-4ac3-9c0f-231393c2b1b0",
   "metadata": {},
   "outputs": [],
   "source": [
    "dataset_path_1 = \"/Users/sibikarthik/**R2S PROJECT/Data 1 (Initial)\"\n",
    "train_path_1 = \"/Users/sibikarthik/**R2S PROJECT/Data 1 (Initial)/train\"\n",
    "test_path_1 = \"/Users/sibikarthik/**R2S PROJECT/Data 1 (Initial)/test\""
   ]
  },
  {
   "cell_type": "code",
   "execution_count": 7,
   "id": "99a7e65f-ff3c-451f-b33d-a5c98106dc4a",
   "metadata": {},
   "outputs": [
    {
     "data": {
      "image/png": "[encoded data removed]",
      "text/plain": [
       "<Figure size 500x500 with 1 Axes>"
      ]
     },
     "metadata": {},
     "output_type": "display_data"
    },
    {
     "name": "stdout",
     "output_type": "stream",
     "text": [
      "Number of CT - Chest Cancer images in train is 2505\n",
      "Number of CT - Kidney images in train is 9404\n",
      "Number of MRI images in train is 2870\n",
      "Number of X-Ray images in train is 5144\n"
     ]
    },
    {
     "data": {
      "image/png": "[encoded data removed]",
      "text/plain": [
       "<Figure size 500x500 with 1 Axes>"
      ]
     },
     "metadata": {},
     "output_type": "display_data"
    },
    {
     "name": "stdout",
     "output_type": "stream",
     "text": [
      "Number of CT - Chest Cancer images in test is 1314\n",
      "Number of CT - Kidney images in test is 2352\n",
      "Number of MRI images in test is 394\n",
      "Number of X-Ray images in test is 1288\n"
     ]
    }
   ],
   "source": [
    "train_ct_chest = [x for x in os.listdir('/Users/sibikarthik/**R2S PROJECT/Data 1 (Initial)/train/CT - Chest Cancer') if not x.startswith('.')]\n",
    "train_ct_kidney = [x for x in os.listdir('/Users/sibikarthik/**R2S PROJECT/Data 1 (Initial)/train/CT - Kidney') if not x.startswith('.')]\n",
    "train_mri = [x for x in os.listdir('/Users/sibikarthik/**R2S PROJECT/Data 1 (Initial)/train/MRI') if not x.startswith('.')]\n",
    "train_xray = [x for x in os.listdir('/Users/sibikarthik/**R2S PROJECT/Data 1 (Initial)/train/X-Ray') if not x.startswith('.')]\n",
    "test_ct_chest = [x for x in os.listdir('/Users/sibikarthik/**R2S PROJECT/Data 1 (Initial)/test/CT - Chest Cancer') if not x.startswith('.')]\n",
    "test_ct_kidney = [x for x in os.listdir('/Users/sibikarthik/**R2S PROJECT/Data 1 (Initial)/test/CT - Kidney') if not x.startswith('.')]\n",
    "test_mri = [x for x in os.listdir('/Users/sibikarthik/**R2S PROJECT/Data 1 (Initial)/test/MRI') if not x.startswith('.')]\n",
    "test_xray = [x for x in os.listdir('/Users/sibikarthik/**R2S PROJECT/Data 1 (Initial)/test/X-Ray') if not x.startswith('.')]\n",
    "\n",
    "classes = ['CT - Chest Cancer','CT - Kidney','MRI','X-Ray']\n",
    "counts = [len(train_ct_chest),len(train_ct_kidney),len(train_mri),len(train_xray)]\n",
    "plot_bar(classes,counts,'Train data')\n",
    "for i in range(len(classes)):\n",
    "    print('Number of '+classes[i]+' images in train is '+str(counts[i]))\n",
    "\n",
    "classes = ['CT - Chest Cancer','CT - Kidney','MRI','X-Ray']\n",
    "counts = [len(test_ct_chest),len(test_ct_kidney),len(test_mri),len(test_xray)]\n",
    "plot_bar(classes,counts,'Test data')\n",
    "for i in range(len(classes)):\n",
    "    print('Number of '+classes[i]+' images in test is '+str(counts[i]))"
   ]
  },
  {
   "cell_type": "code",
   "execution_count": 8,
   "id": "09acaea1-34cc-4c73-b1a5-bd325559f6e5",
   "metadata": {},
   "outputs": [
    {
     "name": "stdout",
     "output_type": "stream",
     "text": [
      "DATASET SUMMARY\n",
      "---------------------------------------\n",
      "there are 2 directories and 0 images in /Users/sibikarthik/**R2S PROJECT/Data 1 (Initial)\n",
      "there are 4 directories and 0 images in /Users/sibikarthik/**R2S PROJECT/Data 1 (Initial)/test\n",
      "there are 0 directories and 1288 images in /Users/sibikarthik/**R2S PROJECT/Data 1 (Initial)/test/X-Ray\n",
      "there are 0 directories and 1314 images in /Users/sibikarthik/**R2S PROJECT/Data 1 (Initial)/test/CT - Chest Cancer\n",
      "there are 0 directories and 394 images in /Users/sibikarthik/**R2S PROJECT/Data 1 (Initial)/test/MRI\n",
      "there are 0 directories and 2352 images in /Users/sibikarthik/**R2S PROJECT/Data 1 (Initial)/test/CT - Kidney\n",
      "there are 4 directories and 0 images in /Users/sibikarthik/**R2S PROJECT/Data 1 (Initial)/train\n",
      "there are 0 directories and 5144 images in /Users/sibikarthik/**R2S PROJECT/Data 1 (Initial)/train/X-Ray\n",
      "there are 0 directories and 2505 images in /Users/sibikarthik/**R2S PROJECT/Data 1 (Initial)/train/CT - Chest Cancer\n",
      "there are 0 directories and 2870 images in /Users/sibikarthik/**R2S PROJECT/Data 1 (Initial)/train/MRI\n",
      "there are 0 directories and 9404 images in /Users/sibikarthik/**R2S PROJECT/Data 1 (Initial)/train/CT - Kidney\n",
      "\n",
      "---------------------------------------\n"
     ]
    }
   ],
   "source": [
    "#Generate a summary of dataset:\n",
    "\n",
    "print(\"DATASET SUMMARY\")\n",
    "print(\"---------------------------------------\")\n",
    "\n",
    "for dirpath, dirnames, filenames in os.walk(dataset_path_1):\n",
    "    dirnames[:] = [d for d in dirnames if not d.startswith('.')]\n",
    "    filenames = [f for f in filenames if not f.startswith('.')]\n",
    "    print(f'there are {len(dirnames)} directories and {len(filenames)} images in {dirpath}')\n",
    "print('\\n---------------------------------------')"
   ]
  },
  {
   "cell_type": "markdown",
   "id": "94edbdf3-7dfa-4afd-8e48-81033d7939ff",
   "metadata": {},
   "source": [
    "#### CNN Model Training"
   ]
  },
  {
   "cell_type": "code",
   "execution_count": 9,
   "id": "14a9553a-8479-463e-8891-f02a01e8bc74",
   "metadata": {},
   "outputs": [],
   "source": [
    "import os\n",
    "import numpy as np\n",
    "from keras.preprocessing.image import ImageDataGenerator\n",
    "from keras.applications import ResNet50\n",
    "from keras.models import Sequential, load_model\n",
    "from keras.layers import Dense, Flatten, Dropout\n",
    "from keras.callbacks import EarlyStopping\n",
    "from keras.preprocessing import image"
   ]
  },
  {
   "cell_type": "code",
   "execution_count": 10,
   "id": "7f448b92-963a-4f01-bd0a-715d181261e0",
   "metadata": {},
   "outputs": [],
   "source": [
    "train_dir = '/Users/sibikarthik/**R2S PROJECT/Data 1 (Initial)/train'\n",
    "test_dir = '/Users/sibikarthik/**R2S PROJECT/Data 1 (Initial)/test'"
   ]
  },
  {
   "cell_type": "code",
   "execution_count": 11,
   "id": "94f39a06-1676-47ab-b10b-6ad14b7d2d0e",
   "metadata": {},
   "outputs": [],
   "source": [
    "image_size = (224, 224)\n",
    "batch_size = 32"
   ]
  },
  {
   "cell_type": "code",
   "execution_count": 18,
   "id": "99e25695-fb5d-4487-9bae-d61a389137b0",
   "metadata": {
    "scrolled": true
   },
   "outputs": [],
   "source": [
    "train_datagen = ImageDataGenerator(\n",
    "    rescale=1.0/255,\n",
    "    rotation_range=20,\n",
    "    width_shift_range=0.2,\n",
    "    height_shift_range=0.2,\n",
    "    shear_range=0.15,\n",
    "    zoom_range=0.2,\n",
    "    horizontal_flip=True,\n",
    "    fill_mode='nearest'\n",
    ")\n",
    "\n",
    "'''# Generate and save augmented images to a specified directory\n",
    "train_generator = train_datagen.flow_from_directory(\n",
    "    '/Users/sibikarthik/**R2S PROJECT/Data 1 (Initial)/train',\n",
    "    save_to_dir='/Users/sibikarthik/**R2S PROJECT/Data 1 (Initial)/train_augmented',\n",
    "    save_prefix='aug',\n",
    "    save_format='jpeg'\n",
    ")'''\n",
    "\n",
    "test_datagen = ImageDataGenerator(rescale=1.0/255)"
   ]
  },
  {
   "cell_type": "code",
   "execution_count": 24,
   "id": "e5460024-5b3f-4e13-aa48-7fba6f553292",
   "metadata": {},
   "outputs": [
    {
     "name": "stdout",
     "output_type": "stream",
     "text": [
      "Found 19923 images belonging to 5 classes.\n",
      "Found 5347 images belonging to 5 classes.\n"
     ]
    }
   ],
   "source": [
    "train_generator = train_datagen.flow_from_directory(\n",
    "    train_dir,\n",
    "    target_size=image_size,\n",
    "    batch_size=batch_size,\n",
    "    class_mode='categorical'\n",
    ")\n",
    "\n",
    "test_generator = test_datagen.flow_from_directory(\n",
    "    test_dir,\n",
    "    target_size=image_size,\n",
    "    batch_size=batch_size,\n",
    "    class_mode='categorical'\n",
    ")"
   ]
  },
  {
   "cell_type": "code",
   "execution_count": 27,
   "id": "acf7b9bf-0ccd-4c33-907f-12b11d04800e",
   "metadata": {},
   "outputs": [],
   "source": [
    "cnn_base_model = ResNet50(weights='imagenet', include_top=False, input_shape=(224, 224, 3))\n",
    "cnn_base_model.trainable = False"
   ]
  },
  {
   "cell_type": "code",
   "execution_count": 28,
   "id": "9af6fcf3-274a-4ccc-9b8d-2fa2c1850b3c",
   "metadata": {},
   "outputs": [],
   "source": [
    "# Transfer learning using pre-trained model for feature extraction and multi-class classification\n",
    "model = Sequential([\n",
    "    cnn_base_model,\n",
    "    Flatten(),\n",
    "    Dense(256, activation='relu'),\n",
    "    Dropout(0.5),\n",
    "    Dense(train_generator.num_classes, activation='softmax')\n",
    "])"
   ]
  },
  {
   "cell_type": "code",
   "execution_count": 29,
   "id": "d6d00296-6462-448d-b8a5-bff8a92c9af8",
   "metadata": {},
   "outputs": [],
   "source": [
    "model.compile(optimizer='adam', loss='categorical_crossentropy', metrics=['accuracy'])"
   ]
  },
  {
   "cell_type": "code",
   "execution_count": 30,
   "id": "4306c8d6-dd59-410c-bdfc-853b81313002",
   "metadata": {},
   "outputs": [],
   "source": [
    "early_stopping = EarlyStopping(monitor='val_loss', patience=5, restore_best_weights=True)"
   ]
  },
  {
   "cell_type": "code",
   "execution_count": 33,
   "id": "388070d3-da45-4cf1-a116-417acdf4f742",
   "metadata": {},
   "outputs": [
    {
     "name": "stderr",
     "output_type": "stream",
     "text": [
      "2024-11-19 12:54:42.527466: I tensorflow/core/common_runtime/executor.cc:1197] [/device:CPU:0] (DEBUG INFO) Executor start aborting (this does not indicate an error and you can ignore this message): INVALID_ARGUMENT: You must feed a value for placeholder tensor 'Placeholder/_0' with dtype int32\n",
      "\t [[{{node Placeholder/_0}}]]\n"
     ]
    },
    {
     "name": "stdout",
     "output_type": "stream",
     "text": [
      "623/623 [==============================] - 2327s 4s/step - loss: 0.4802 - accuracy: 0.8230 - val_loss: 0.4014 - val_accuracy: 0.8380\n"
     ]
    }
   ],
   "source": [
    "## Model fitting on the train data and evaluating performance with test data for validation\n",
    "history = model.fit(\n",
    "    train_generator,\n",
    "    validation_data=test_generator,\n",
    "    epochs=1,\n",
    "    callbacks=[early_stopping]\n",
    ")"
   ]
  },
  {
   "cell_type": "code",
   "execution_count": 34,
   "id": "b7c2ca9d-efb5-42a4-b069-720552c4b265",
   "metadata": {},
   "outputs": [
    {
     "name": "stderr",
     "output_type": "stream",
     "text": [
      "2024-11-19 13:34:07.559487: I tensorflow/core/common_runtime/executor.cc:1197] [/device:CPU:0] (DEBUG INFO) Executor start aborting (this does not indicate an error and you can ignore this message): INVALID_ARGUMENT: You must feed a value for placeholder tensor 'Placeholder/_0' with dtype int32\n",
      "\t [[{{node Placeholder/_0}}]]\n"
     ]
    },
    {
     "name": "stdout",
     "output_type": "stream",
     "text": [
      "168/168 [==============================] - 449s 3s/step - loss: 0.4014 - accuracy: 0.8380\n",
      "Test Loss: 0.40135952830314636\n",
      "Test Accuracy: 0.8380399942398071\n"
     ]
    }
   ],
   "source": [
    "loss, accuracy = model.evaluate(test_generator)\n",
    "print(f\"Test Loss: {loss}\")\n",
    "print(f\"Test Accuracy: {accuracy}\")"
   ]
  },
  {
   "cell_type": "code",
   "execution_count": 35,
   "id": "2948ed76-bde3-4472-9f64-258e7066c933",
   "metadata": {},
   "outputs": [],
   "source": [
    "model_path = '/Users/sibikarthik/**R2S PROJECT/Models/initial_cnn_1.h5'\n",
    "model.save(model_path)"
   ]
  },
  {
   "cell_type": "code",
   "execution_count": 115,
   "id": "51416808-7937-4d58-9899-4cc853f25c85",
   "metadata": {},
   "outputs": [],
   "source": [
    "def predict_image(image_path):\n",
    "    # Loading trained model\n",
    "    model = load_model(model_path)\n",
    "    \n",
    "    # Loading and preprocessing of the image\n",
    "    img = image.load_img(image_path, target_size=(224, 224))\n",
    "    img_array = image.img_to_array(img) / 255.0    # Normalization\n",
    "    img_array = np.expand_dims(img_array, axis=0)  # Adding batch dimension\n",
    "\n",
    "    # Prediction of the class\n",
    "    predictions = model.predict(img_array)\n",
    "    predicted_class_index = np.argmax(predictions)\n",
    "    class_labels = list(train_generator.class_indices.keys())\n",
    "    predicted_class = class_labels[predicted_class_index]\n",
    "    \n",
    "    return predicted_class"
   ]
  },
  {
   "cell_type": "code",
   "execution_count": null,
   "id": "6352d98e-418b-4271-88f2-18e69ca3e6a3",
   "metadata": {},
   "outputs": [],
   "source": [
    "# Example usage: Upload an image and check the prediction\n",
    "model = load_model('/Users/sibikarthik/**R2S PROJECT/Models/initial_cnn_1.h5')\n",
    "image_path = '/Users/sibikarthik/**R2S PROJECT/Data 1 (Initial)/train/X-Ray/COVID19(100).jpg'\n",
    "result = predict_image(image_path)\n",
    "print(f\"The uploaded image is predicted to be: {result}\")"
   ]
  },
  {
   "cell_type": "markdown",
   "id": "ecbf0bc5-0283-4571-80d7-3df77961d225",
   "metadata": {},
   "source": [
    "###"
   ]
  },
  {
   "cell_type": "markdown",
   "id": "f61244d6-af71-4b78-81b3-59e9bbecd618",
   "metadata": {},
   "source": [
    "### 2) X - Ray (COVID | Pneumonia | Normal) [RESNET]"
   ]
  },
  {
   "cell_type": "code",
   "execution_count": 42,
   "id": "98faa8e6-c2b6-433a-ba01-d1cfe70685fe",
   "metadata": {},
   "outputs": [],
   "source": [
    "dataset_path_2 = \"/Users/sibikarthik/**R2S PROJECT/Data 2 (X-Ray)\"\n",
    "train_path_2 = \"/Users/sibikarthik/**R2S PROJECT/Data 2 (X-Ray)/train\"\n",
    "test_path_2 = \"/Users/sibikarthik/**R2S PROJECT/Data 2 (X-Ray)/test\""
   ]
  },
  {
   "cell_type": "code",
   "execution_count": 43,
   "id": "f1ba85f8-80b5-43e2-b91b-2818729bd170",
   "metadata": {},
   "outputs": [
    {
     "data": {
      "image/png": "[encoded data removed]",
      "text/plain": [
       "<Figure size 500x500 with 1 Axes>"
      ]
     },
     "metadata": {},
     "output_type": "display_data"
    },
    {
     "name": "stdout",
     "output_type": "stream",
     "text": [
      "Number of COVID19 images in train is 460\n",
      "Number of Normal images in train is 1266\n",
      "Number of Pneumonia images in train is 3418\n"
     ]
    },
    {
     "data": {
      "image/png": "[encoded data removed]",
      "text/plain": [
       "<Figure size 500x500 with 1 Axes>"
      ]
     },
     "metadata": {},
     "output_type": "display_data"
    },
    {
     "name": "stdout",
     "output_type": "stream",
     "text": [
      "Number of COVID19 images in test is 116\n",
      "Number of Normal images in test is 317\n",
      "Number of Pneumonia images in test is 855\n"
     ]
    }
   ],
   "source": [
    "train_covid19 = [x for x in os.listdir('/Users/sibikarthik/**R2S PROJECT/Data 2 (X-Ray)/train/COVID19') if not x.startswith('.')]\n",
    "train_normal = [x for x in os.listdir('/Users/sibikarthik/**R2S PROJECT/Data 2 (X-Ray)/train/NORMAL') if not x.startswith('.')]\n",
    "train_pneumonia = [x for x in os.listdir('/Users/sibikarthik/**R2S PROJECT/Data 2 (X-Ray)/train/PNEUMONIA') if not x.startswith('.')]\n",
    "test_covid19 = [x for x in os.listdir('/Users/sibikarthik/**R2S PROJECT/Data 2 (X-Ray)/test/COVID19') if not x.startswith('.')]\n",
    "test_normal = [x for x in os.listdir('/Users/sibikarthik/**R2S PROJECT/Data 2 (X-Ray)/test/NORMAL') if not x.startswith('.')]\n",
    "test_pneumonia = [x for x in os.listdir('/Users/sibikarthik/**R2S PROJECT/Data 2 (X-Ray)/test/PNEUMONIA') if not x.startswith('.')]\n",
    "\n",
    "classes = ['COVID19','Normal','Pneumonia']\n",
    "counts = [len(train_covid19),len(train_normal),len(train_pneumonia)]\n",
    "plot_bar(classes,counts,'Train data')\n",
    "for i in range(len(classes)):\n",
    "    print('Number of '+classes[i]+' images in train is '+str(counts[i]))\n",
    "\n",
    "classes = ['COVID19','Normal','Pneumonia']\n",
    "counts = [len(test_covid19),len(test_normal),len(test_pneumonia)]\n",
    "plot_bar(classes,counts,'Test data')\n",
    "for i in range(len(classes)):\n",
    "    print('Number of '+classes[i]+' images in test is '+str(counts[i]))"
   ]
  },
  {
   "cell_type": "code",
   "execution_count": 44,
   "id": "4f9c80cc-d50a-4b6b-af78-5b4c108daf41",
   "metadata": {},
   "outputs": [
    {
     "name": "stdout",
     "output_type": "stream",
     "text": [
      "DATASET SUMMARY\n",
      "---------------------------------------\n",
      "there are 2 directories and 0 images in /Users/sibikarthik/**R2S PROJECT/Data 2 (X-Ray)\n",
      "there are 3 directories and 0 images in /Users/sibikarthik/**R2S PROJECT/Data 2 (X-Ray)/test\n",
      "there are 0 directories and 116 images in /Users/sibikarthik/**R2S PROJECT/Data 2 (X-Ray)/test/COVID19\n",
      "there are 0 directories and 855 images in /Users/sibikarthik/**R2S PROJECT/Data 2 (X-Ray)/test/PNEUMONIA\n",
      "there are 0 directories and 317 images in /Users/sibikarthik/**R2S PROJECT/Data 2 (X-Ray)/test/NORMAL\n",
      "there are 3 directories and 0 images in /Users/sibikarthik/**R2S PROJECT/Data 2 (X-Ray)/train\n",
      "there are 0 directories and 460 images in /Users/sibikarthik/**R2S PROJECT/Data 2 (X-Ray)/train/COVID19\n",
      "there are 0 directories and 3418 images in /Users/sibikarthik/**R2S PROJECT/Data 2 (X-Ray)/train/PNEUMONIA\n",
      "there are 0 directories and 1266 images in /Users/sibikarthik/**R2S PROJECT/Data 2 (X-Ray)/train/NORMAL\n",
      "\n",
      "---------------------------------------\n"
     ]
    }
   ],
   "source": [
    "#Generate a summary of dataset:\n",
    "\n",
    "print(\"DATASET SUMMARY\")\n",
    "print(\"---------------------------------------\")\n",
    "\n",
    "for dirpath, dirnames, filenames in os.walk(dataset_path_2):\n",
    "    dirnames[:] = [d for d in dirnames if not d.startswith('.')]\n",
    "    filenames = [f for f in filenames if not f.startswith('.')]\n",
    "    print(f'there are {len(dirnames)} directories and {len(filenames)} images in {dirpath}')\n",
    "print('\\n---------------------------------------')"
   ]
  },
  {
   "cell_type": "markdown",
   "id": "54074418-4848-437d-9bd1-af79539869ae",
   "metadata": {},
   "source": [
    "##### ResNet50 Model"
   ]
  },
  {
   "cell_type": "code",
   "execution_count": 45,
   "id": "082937e1-31c1-4dd7-92fa-f1c22314ba8f",
   "metadata": {},
   "outputs": [],
   "source": [
    "import os\n",
    "import numpy as np\n",
    "from keras.preprocessing.image import ImageDataGenerator\n",
    "from keras.applications import ResNet50\n",
    "from keras.models import Sequential, load_model\n",
    "from keras.layers import Dense, Flatten, Dropout\n",
    "from keras.callbacks import EarlyStopping\n",
    "from keras.preprocessing import image"
   ]
  },
  {
   "cell_type": "code",
   "execution_count": 46,
   "id": "5bdbb666-3ec9-4ccd-a3a4-d2851f57d2b5",
   "metadata": {},
   "outputs": [],
   "source": [
    "train_dir = '/Users/sibikarthik/**R2S PROJECT/Data 2 (X-Ray)/train'\n",
    "test_dir = '/Users/sibikarthik/**R2S PROJECT/Data 2 (X-Ray)/test'"
   ]
  },
  {
   "cell_type": "code",
   "execution_count": 47,
   "id": "8f1dffc4-354f-4457-9738-4235160bb295",
   "metadata": {},
   "outputs": [],
   "source": [
    "image_size = (224, 224)\n",
    "batch_size = 32"
   ]
  },
  {
   "cell_type": "code",
   "execution_count": 48,
   "id": "4c18f7bf-a1da-406c-ada0-201957948758",
   "metadata": {},
   "outputs": [],
   "source": [
    "train_datagen = ImageDataGenerator(\n",
    "    rescale=1.0/255,\n",
    "    rotation_range=20,\n",
    "    width_shift_range=0.2,\n",
    "    height_shift_range=0.2,\n",
    "    shear_range=0.15,\n",
    "    zoom_range=0.2,\n",
    "    horizontal_flip=True,\n",
    "    fill_mode='nearest'\n",
    ")\n",
    "\n",
    "'''# Generate and save augmented images to a specified directory\n",
    "train_generator = train_datagen.flow_from_directory(\n",
    "    '/Users/sibikarthik/**R2S PROJECT/Data 2 (X-Ray)/train',\n",
    "    save_to_dir='/Users/sibikarthik/**R2S PROJECT/Data 2 (X-Ray)/train_augmented',\n",
    "    save_prefix='aug',\n",
    "    save_format='jpeg'\n",
    ")'''\n",
    "\n",
    "test_datagen = ImageDataGenerator(rescale=1.0/255)"
   ]
  },
  {
   "cell_type": "code",
   "execution_count": 49,
   "id": "f9cd9890-f955-4a1a-a564-0dcc0e25e9f2",
   "metadata": {},
   "outputs": [
    {
     "name": "stdout",
     "output_type": "stream",
     "text": [
      "Found 5144 images belonging to 4 classes.\n",
      "Found 1288 images belonging to 4 classes.\n"
     ]
    }
   ],
   "source": [
    "train_generator = train_datagen.flow_from_directory(\n",
    "    train_dir,\n",
    "    target_size=image_size,\n",
    "    batch_size=batch_size,\n",
    "    class_mode='categorical'\n",
    ")\n",
    "\n",
    "test_generator = test_datagen.flow_from_directory(\n",
    "    test_dir,\n",
    "    target_size=image_size,\n",
    "    batch_size=batch_size,\n",
    "    class_mode='categorical'\n",
    ")"
   ]
  },
  {
   "cell_type": "code",
   "execution_count": 50,
   "id": "838f4705-5c2f-4233-91ed-4f9258888c08",
   "metadata": {},
   "outputs": [],
   "source": [
    "resnet_base_model = ResNet50(weights='imagenet', include_top=False, input_shape=(224, 224, 3))\n",
    "resnet_base_model.trainable = False"
   ]
  },
  {
   "cell_type": "code",
   "execution_count": 51,
   "id": "80b34d28-2e80-4be1-ae98-fab90015e04c",
   "metadata": {},
   "outputs": [],
   "source": [
    "# Transfer learning using pre-trained model for feature extraction and multi-class classification\n",
    "model = Sequential([\n",
    "    resnet_base_model,\n",
    "    Flatten(),\n",
    "    Dense(256, activation='relu'),\n",
    "    Dropout(0.5),\n",
    "    Dense(train_generator.num_classes, activation='softmax')\n",
    "])"
   ]
  },
  {
   "cell_type": "code",
   "execution_count": 52,
   "id": "bffcd646-8e5a-4d0b-9a1d-5b2316c26207",
   "metadata": {},
   "outputs": [],
   "source": [
    "model.compile(optimizer='adam', loss='categorical_crossentropy', metrics=['accuracy'])"
   ]
  },
  {
   "cell_type": "code",
   "execution_count": 53,
   "id": "68015640-3d7b-40ee-a227-9529a96b469d",
   "metadata": {},
   "outputs": [],
   "source": [
    "early_stopping = EarlyStopping(monitor='val_loss', patience=5, restore_best_weights=True)"
   ]
  },
  {
   "cell_type": "code",
   "execution_count": 54,
   "id": "c9407d8c-66dc-429b-bcd9-c5bc64f88c3d",
   "metadata": {},
   "outputs": [
    {
     "name": "stdout",
     "output_type": "stream",
     "text": [
      "Epoch 1/10\n"
     ]
    },
    {
     "name": "stderr",
     "output_type": "stream",
     "text": [
      "2024-11-19 14:27:02.470028: I tensorflow/core/common_runtime/executor.cc:1197] [/device:CPU:0] (DEBUG INFO) Executor start aborting (this does not indicate an error and you can ignore this message): INVALID_ARGUMENT: You must feed a value for placeholder tensor 'Placeholder/_0' with dtype int32\n",
      "\t [[{{node Placeholder/_0}}]]\n"
     ]
    },
    {
     "name": "stdout",
     "output_type": "stream",
     "text": [
      "161/161 [==============================] - ETA: 0s - loss: 2.3498 - accuracy: 0.6093"
     ]
    },
    {
     "name": "stderr",
     "output_type": "stream",
     "text": [
      "2024-11-19 14:35:22.581819: I tensorflow/core/common_runtime/executor.cc:1197] [/device:CPU:0] (DEBUG INFO) Executor start aborting (this does not indicate an error and you can ignore this message): INVALID_ARGUMENT: You must feed a value for placeholder tensor 'Placeholder/_0' with dtype int32\n",
      "\t [[{{node Placeholder/_0}}]]\n"
     ]
    },
    {
     "name": "stdout",
     "output_type": "stream",
     "text": [
      "161/161 [==============================] - 617s 4s/step - loss: 2.3498 - accuracy: 0.6093 - val_loss: 0.8036 - val_accuracy: 0.6638\n",
      "Epoch 2/10\n",
      "161/161 [==============================] - 601s 4s/step - loss: 0.8640 - accuracy: 0.6621 - val_loss: 0.7561 - val_accuracy: 0.6638\n",
      "Epoch 3/10\n",
      "161/161 [==============================] - 594s 4s/step - loss: 0.8197 - accuracy: 0.6610 - val_loss: 0.7347 - val_accuracy: 0.6638\n",
      "Epoch 4/10\n",
      "161/161 [==============================] - 1479s 9s/step - loss: 0.7852 - accuracy: 0.6654 - val_loss: 0.6395 - val_accuracy: 0.6638\n",
      "Epoch 5/10\n",
      "161/161 [==============================] - 579s 4s/step - loss: 0.8376 - accuracy: 0.6652 - val_loss: 0.7231 - val_accuracy: 0.6638\n",
      "Epoch 6/10\n",
      "161/161 [==============================] - 560s 3s/step - loss: 0.8156 - accuracy: 0.6645 - val_loss: 0.8125 - val_accuracy: 0.6638\n",
      "Epoch 7/10\n",
      "161/161 [==============================] - 582s 4s/step - loss: 0.8720 - accuracy: 0.6627 - val_loss: 0.8073 - val_accuracy: 0.6638\n",
      "Epoch 8/10\n",
      "161/161 [==============================] - 564s 4s/step - loss: 0.9022 - accuracy: 0.6631 - val_loss: 0.8275 - val_accuracy: 0.6638\n",
      "Epoch 9/10\n",
      "161/161 [==============================] - 591s 4s/step - loss: 0.8907 - accuracy: 0.6643 - val_loss: 0.7995 - val_accuracy: 0.6638\n"
     ]
    }
   ],
   "source": [
    "# Model fitting on the train data and evaluating performance with test data for validation\n",
    "history = model.fit(\n",
    "    train_generator,\n",
    "    validation_data=test_generator,\n",
    "    epochs=10,\n",
    "    callbacks=[early_stopping]\n",
    ")"
   ]
  },
  {
   "cell_type": "code",
   "execution_count": 55,
   "id": "27a55923-bb87-4e02-a16d-b5cdb59b85a5",
   "metadata": {},
   "outputs": [
    {
     "name": "stderr",
     "output_type": "stream",
     "text": [
      "2024-11-19 16:30:29.607709: I tensorflow/core/common_runtime/executor.cc:1197] [/device:CPU:0] (DEBUG INFO) Executor start aborting (this does not indicate an error and you can ignore this message): INVALID_ARGUMENT: You must feed a value for placeholder tensor 'Placeholder/_0' with dtype int32\n",
      "\t [[{{node Placeholder/_0}}]]\n"
     ]
    },
    {
     "name": "stdout",
     "output_type": "stream",
     "text": [
      "41/41 [==============================] - 105s 3s/step - loss: 0.6395 - accuracy: 0.6638\n",
      "Test Loss: 0.6395029425621033\n",
      "Test Accuracy: 0.6638198494911194\n"
     ]
    }
   ],
   "source": [
    "loss, accuracy = model.evaluate(test_generator)\n",
    "print(f\"Test Loss: {loss}\")\n",
    "print(f\"Test Accuracy: {accuracy}\")"
   ]
  },
  {
   "cell_type": "code",
   "execution_count": 56,
   "id": "7b97b417-c1aa-4880-9714-3474144f1c23",
   "metadata": {},
   "outputs": [],
   "source": [
    "model_path = '/Users/sibikarthik/**R2S PROJECT/Models/xray_resnet_2.h5'\n",
    "model.save(model_path)"
   ]
  },
  {
   "cell_type": "code",
   "execution_count": 57,
   "id": "9fa7820e-9d75-4ed7-89c2-055d50f346ca",
   "metadata": {},
   "outputs": [],
   "source": [
    "def predict_image(image_path):\n",
    "    # Loading trained model\n",
    "    model = load_model(model_path)\n",
    "    \n",
    "    # Loading and preprocessing of image\n",
    "    img = image.load_img(image_path, target_size=(224, 224))\n",
    "    img_array = image.img_to_array(img) / 255.0  # Normalization\n",
    "    img_array = np.expand_dims(img_array, axis=0)  # Adding batch dimension\n",
    "\n",
    "    # Prediction of the class\n",
    "    predictions = model.predict(img_array)\n",
    "    predicted_class_index = np.argmax(predictions)\n",
    "    class_labels = list(train_generator.class_indices.keys())\n",
    "    predicted_class = class_labels[predicted_class_index]\n",
    "    \n",
    "    return predicted_class"
   ]
  },
  {
   "cell_type": "code",
   "execution_count": null,
   "id": "f2abbba0-994b-4870-a167-32c5c7ae0845",
   "metadata": {
    "scrolled": true
   },
   "outputs": [],
   "source": [
    "# Example usage: Upload an image and check the prediction\n",
    "model = load_model('/Users/sibikarthik/**R2S PROJECT/Models/xray_resnet_2.h5')\n",
    "image_path = '/Users/sibikarthik/**R2S PROJECT/Data 2 (X-Ray)/train/NORMAL/NORMAL(1).jpg'\n",
    "result = predict_image(image_path)\n",
    "print(f\"The uploaded image is predicted to be: {result}\")"
   ]
  },
  {
   "cell_type": "markdown",
   "id": "e1379707-9031-4da1-9334-05be0c96a17d",
   "metadata": {},
   "source": [
    "###"
   ]
  },
  {
   "cell_type": "markdown",
   "id": "4a8e9dd6-392c-47de-bafd-2b716a4b3fca",
   "metadata": {},
   "source": [
    "### 3) MRI (Glioma Tumor | Meningioma Tumor | No Tumor | Pituitary Tumor) [DENSENET]"
   ]
  },
  {
   "cell_type": "code",
   "execution_count": 59,
   "id": "8b5b41ca-1088-4dee-9494-d46bbbfcdb7c",
   "metadata": {},
   "outputs": [],
   "source": [
    "dataset_path_3 = \"/Users/sibikarthik/**R2S PROJECT/Data 3 (MRI)\"\n",
    "train_path_3 = \"/Users/sibikarthik/**R2S PROJECT/Data 3 (MRI)/train\"\n",
    "test_path_3 = \"/Users/sibikarthik/**R2S PROJECT/Data 3 (MRI)/test\""
   ]
  },
  {
   "cell_type": "code",
   "execution_count": 60,
   "id": "64dc60ac-5b7b-48e3-bba0-7312ce36d022",
   "metadata": {},
   "outputs": [
    {
     "data": {
      "image/png": "[encoded data removed]",
      "text/plain": [
       "<Figure size 500x500 with 1 Axes>"
      ]
     },
     "metadata": {},
     "output_type": "display_data"
    },
    {
     "name": "stdout",
     "output_type": "stream",
     "text": [
      "Number of Glioma Tumor images in train is 826\n",
      "Number of Meningioma Tumor images in train is 822\n",
      "Number of No Tumor images in train is 395\n",
      "Number of Pituitary Tumor images in train is 827\n"
     ]
    },
    {
     "data": {
      "image/png": "[encoded data removed]",
      "text/plain": [
       "<Figure size 500x500 with 1 Axes>"
      ]
     },
     "metadata": {},
     "output_type": "display_data"
    },
    {
     "name": "stdout",
     "output_type": "stream",
     "text": [
      "Number of Glioma Tumor images in test is 100\n",
      "Number of Meningioma Tumor images in test is 115\n",
      "Number of No Tumor images in test is 105\n",
      "Number of Pituitary Tumor images in test is 74\n"
     ]
    }
   ],
   "source": [
    "train_glioma = [x for x in os.listdir('/Users/sibikarthik/**R2S PROJECT/Data 3 (MRI)/train/Glioma Tumor') if not x.startswith('.')]\n",
    "train_meningioma = [x for x in os.listdir('/Users/sibikarthik/**R2S PROJECT/Data 3 (MRI)/train/Meningioma Tumor') if not x.startswith('.')]\n",
    "train_no_tumor = [x for x in os.listdir('/Users/sibikarthik/**R2S PROJECT/Data 3 (MRI)/train/No Tumor') if not x.startswith('.')]\n",
    "train_pituitary = [x for x in os.listdir('/Users/sibikarthik/**R2S PROJECT/Data 3 (MRI)/train/Pituitary Tumor') if not x.startswith('.')]\n",
    "test_glioma = [x for x in os.listdir('/Users/sibikarthik/**R2S PROJECT/Data 3 (MRI)/test/Glioma Tumor') if not x.startswith('.')]\n",
    "test_meningioma = [x for x in os.listdir('/Users/sibikarthik/**R2S PROJECT/Data 3 (MRI)/test/Meningioma Tumor') if not x.startswith('.')]\n",
    "test_no_tumor = [x for x in os.listdir('/Users/sibikarthik/**R2S PROJECT/Data 3 (MRI)/test/No Tumor') if not x.startswith('.')]\n",
    "test_pituitary = [x for x in os.listdir('/Users/sibikarthik/**R2S PROJECT/Data 3 (MRI)/test/Pituitary Tumor') if not x.startswith('.')]\n",
    "\n",
    "classes = ['Glioma Tumor','Meningioma Tumor','No Tumor','Pituitary Tumor']\n",
    "counts = [len(train_glioma),len(train_meningioma),len(train_no_tumor),len(train_pituitary)]\n",
    "plot_bar(classes,counts,'Train data')\n",
    "for i in range(len(classes)):\n",
    "    print('Number of '+classes[i]+' images in train is '+str(counts[i]))\n",
    "\n",
    "classes = ['Glioma Tumor','Meningioma Tumor','No Tumor','Pituitary Tumor']\n",
    "counts = [len(test_glioma),len(test_meningioma),len(test_no_tumor),len(test_pituitary)]\n",
    "plot_bar(classes,counts,'Test data')\n",
    "for i in range(len(classes)):\n",
    "    print('Number of '+classes[i]+' images in test is '+str(counts[i]))"
   ]
  },
  {
   "cell_type": "code",
   "execution_count": 61,
   "id": "0e068be8-27c9-4787-9904-4da00905bb42",
   "metadata": {},
   "outputs": [
    {
     "name": "stdout",
     "output_type": "stream",
     "text": [
      "DATASET SUMMARY\n",
      "---------------------------------------\n",
      "there are 2 directories and 0 images in /Users/sibikarthik/**R2S PROJECT/Data 3 (MRI)\n",
      "there are 4 directories and 0 images in /Users/sibikarthik/**R2S PROJECT/Data 3 (MRI)/test\n",
      "there are 0 directories and 100 images in /Users/sibikarthik/**R2S PROJECT/Data 3 (MRI)/test/Glioma Tumor\n",
      "there are 0 directories and 115 images in /Users/sibikarthik/**R2S PROJECT/Data 3 (MRI)/test/Meningioma Tumor\n",
      "there are 0 directories and 105 images in /Users/sibikarthik/**R2S PROJECT/Data 3 (MRI)/test/No Tumor\n",
      "there are 0 directories and 74 images in /Users/sibikarthik/**R2S PROJECT/Data 3 (MRI)/test/Pituitary Tumor\n",
      "there are 4 directories and 0 images in /Users/sibikarthik/**R2S PROJECT/Data 3 (MRI)/train\n",
      "there are 0 directories and 826 images in /Users/sibikarthik/**R2S PROJECT/Data 3 (MRI)/train/Glioma Tumor\n",
      "there are 0 directories and 822 images in /Users/sibikarthik/**R2S PROJECT/Data 3 (MRI)/train/Meningioma Tumor\n",
      "there are 0 directories and 395 images in /Users/sibikarthik/**R2S PROJECT/Data 3 (MRI)/train/No Tumor\n",
      "there are 0 directories and 827 images in /Users/sibikarthik/**R2S PROJECT/Data 3 (MRI)/train/Pituitary Tumor\n",
      "\n",
      "---------------------------------------\n"
     ]
    }
   ],
   "source": [
    "#Generate a summary of dataset:\n",
    "\n",
    "print(\"DATASET SUMMARY\")\n",
    "print(\"---------------------------------------\")\n",
    "\n",
    "for dirpath, dirnames, filenames in os.walk(dataset_path_3):\n",
    "    dirnames[:] = [d for d in dirnames if not d.startswith('.')]\n",
    "    filenames = [f for f in filenames if not f.startswith('.')]\n",
    "    print(f'there are {len(dirnames)} directories and {len(filenames)} images in {dirpath}')\n",
    "print('\\n---------------------------------------')"
   ]
  },
  {
   "cell_type": "markdown",
   "id": "7f0e9b7c-5b60-45b8-9e54-da88303f1be4",
   "metadata": {},
   "source": [
    "##### DenseNet121 Model"
   ]
  },
  {
   "cell_type": "code",
   "execution_count": 62,
   "id": "63bafa01-b19d-4bd9-a9b0-64802a0bfcb7",
   "metadata": {},
   "outputs": [],
   "source": [
    "import os\n",
    "import numpy as np\n",
    "from keras.preprocessing.image import ImageDataGenerator\n",
    "from keras.applications import DenseNet121\n",
    "from keras.models import Sequential, load_model\n",
    "from keras.layers import Dense, Flatten, Dropout\n",
    "from keras.callbacks import EarlyStopping\n",
    "from keras.preprocessing import image"
   ]
  },
  {
   "cell_type": "code",
   "execution_count": 63,
   "id": "1a7bfde2-3f80-4081-926a-dadc4cb9ea86",
   "metadata": {},
   "outputs": [],
   "source": [
    "train_dir = '/Users/sibikarthik/**R2S PROJECT/Data 3 (MRI)/train'\n",
    "test_dir = '/Users/sibikarthik/**R2S PROJECT/Data 3 (MRI)/test'"
   ]
  },
  {
   "cell_type": "code",
   "execution_count": 64,
   "id": "854af900-bb33-43a3-9271-fad434811961",
   "metadata": {},
   "outputs": [],
   "source": [
    "image_size = (224, 224)\n",
    "batch_size = 32"
   ]
  },
  {
   "cell_type": "code",
   "execution_count": 65,
   "id": "b439d9b6-ed87-426f-9b6e-2a22162f99d2",
   "metadata": {},
   "outputs": [],
   "source": [
    "train_datagen = ImageDataGenerator(\n",
    "    rescale=1.0/255,\n",
    "    rotation_range=20,\n",
    "    width_shift_range=0.2,\n",
    "    height_shift_range=0.2,\n",
    "    shear_range=0.15,\n",
    "    zoom_range=0.2,\n",
    "    horizontal_flip=True,\n",
    "    fill_mode='nearest'\n",
    ")\n",
    "\n",
    "'''# Generate and save augmented images to a specified directory\n",
    "train_generator = train_datagen.flow_from_directory(\n",
    "    '/Users/sibikarthik/**R2S PROJECT/Data 3 (MRI)/train',\n",
    "    save_to_dir='/Users/sibikarthik/**R2S PROJECT/Data 3 (MRI)/train_augmented',\n",
    "    save_prefix='aug',\n",
    "    save_format='jpeg'\n",
    ")'''\n",
    "\n",
    "test_datagen = ImageDataGenerator(rescale=1.0/255)"
   ]
  },
  {
   "cell_type": "code",
   "execution_count": 66,
   "id": "876aa14f-1423-4006-9042-90a6c1326f17",
   "metadata": {},
   "outputs": [
    {
     "name": "stdout",
     "output_type": "stream",
     "text": [
      "Found 2870 images belonging to 5 classes.\n",
      "Found 394 images belonging to 5 classes.\n"
     ]
    }
   ],
   "source": [
    "train_generator = train_datagen.flow_from_directory(\n",
    "    train_dir,\n",
    "    target_size=image_size,\n",
    "    batch_size=batch_size,\n",
    "    class_mode='categorical'\n",
    ")\n",
    "\n",
    "test_generator = test_datagen.flow_from_directory(\n",
    "    test_dir,\n",
    "    target_size=image_size,\n",
    "    batch_size=batch_size,\n",
    "    class_mode='categorical'\n",
    ")"
   ]
  },
  {
   "cell_type": "code",
   "execution_count": 67,
   "id": "b780d0fa-2688-4eed-a580-37712bb6d747",
   "metadata": {
    "scrolled": true
   },
   "outputs": [
    {
     "name": "stdout",
     "output_type": "stream",
     "text": [
      "Downloading data from https://storage.googleapis.com/tensorflow/keras-applications/densenet/densenet121_weights_tf_dim_ordering_tf_kernels_notop.h5\n"
     ]
    },
    {
     "ename": "Exception",
     "evalue": "URL fetch failure on https://storage.googleapis.com/tensorflow/keras-applications/densenet/densenet121_weights_tf_dim_ordering_tf_kernels_notop.h5: None -- [Errno 8] nodename nor servname provided, or not known",
     "output_type": "error",
     "traceback": [
      "\u001b[0;31m---------------------------------------------------------------------------\u001b[0m",
      "\u001b[0;31mgaierror\u001b[0m                                  Traceback (most recent call last)",
      "File \u001b[0;32m~/env_tf/lib/python3.8/urllib/request.py:1354\u001b[0m, in \u001b[0;36mAbstractHTTPHandler.do_open\u001b[0;34m(self, http_class, req, **http_conn_args)\u001b[0m\n\u001b[1;32m   1353\u001b[0m \u001b[38;5;28;01mtry\u001b[39;00m:\n\u001b[0;32m-> 1354\u001b[0m     \u001b[43mh\u001b[49m\u001b[38;5;241;43m.\u001b[39;49m\u001b[43mrequest\u001b[49m\u001b[43m(\u001b[49m\u001b[43mreq\u001b[49m\u001b[38;5;241;43m.\u001b[39;49m\u001b[43mget_method\u001b[49m\u001b[43m(\u001b[49m\u001b[43m)\u001b[49m\u001b[43m,\u001b[49m\u001b[43m \u001b[49m\u001b[43mreq\u001b[49m\u001b[38;5;241;43m.\u001b[39;49m\u001b[43mselector\u001b[49m\u001b[43m,\u001b[49m\u001b[43m \u001b[49m\u001b[43mreq\u001b[49m\u001b[38;5;241;43m.\u001b[39;49m\u001b[43mdata\u001b[49m\u001b[43m,\u001b[49m\u001b[43m \u001b[49m\u001b[43mheaders\u001b[49m\u001b[43m,\u001b[49m\n\u001b[1;32m   1355\u001b[0m \u001b[43m              \u001b[49m\u001b[43mencode_chunked\u001b[49m\u001b[38;5;241;43m=\u001b[39;49m\u001b[43mreq\u001b[49m\u001b[38;5;241;43m.\u001b[39;49m\u001b[43mhas_header\u001b[49m\u001b[43m(\u001b[49m\u001b[38;5;124;43m'\u001b[39;49m\u001b[38;5;124;43mTransfer-encoding\u001b[39;49m\u001b[38;5;124;43m'\u001b[39;49m\u001b[43m)\u001b[49m\u001b[43m)\u001b[49m\n\u001b[1;32m   1356\u001b[0m \u001b[38;5;28;01mexcept\u001b[39;00m \u001b[38;5;167;01mOSError\u001b[39;00m \u001b[38;5;28;01mas\u001b[39;00m err: \u001b[38;5;66;03m# timeout error\u001b[39;00m\n",
      "File \u001b[0;32m~/env_tf/lib/python3.8/http/client.py:1256\u001b[0m, in \u001b[0;36mHTTPConnection.request\u001b[0;34m(self, method, url, body, headers, encode_chunked)\u001b[0m\n\u001b[1;32m   1255\u001b[0m \u001b[38;5;250m\u001b[39m\u001b[38;5;124;03m\"\"\"Send a complete request to the server.\"\"\"\u001b[39;00m\n\u001b[0;32m-> 1256\u001b[0m \u001b[38;5;28;43mself\u001b[39;49m\u001b[38;5;241;43m.\u001b[39;49m\u001b[43m_send_request\u001b[49m\u001b[43m(\u001b[49m\u001b[43mmethod\u001b[49m\u001b[43m,\u001b[49m\u001b[43m \u001b[49m\u001b[43murl\u001b[49m\u001b[43m,\u001b[49m\u001b[43m \u001b[49m\u001b[43mbody\u001b[49m\u001b[43m,\u001b[49m\u001b[43m \u001b[49m\u001b[43mheaders\u001b[49m\u001b[43m,\u001b[49m\u001b[43m \u001b[49m\u001b[43mencode_chunked\u001b[49m\u001b[43m)\u001b[49m\n",
      "File \u001b[0;32m~/env_tf/lib/python3.8/http/client.py:1302\u001b[0m, in \u001b[0;36mHTTPConnection._send_request\u001b[0;34m(self, method, url, body, headers, encode_chunked)\u001b[0m\n\u001b[1;32m   1301\u001b[0m     body \u001b[38;5;241m=\u001b[39m _encode(body, \u001b[38;5;124m'\u001b[39m\u001b[38;5;124mbody\u001b[39m\u001b[38;5;124m'\u001b[39m)\n\u001b[0;32m-> 1302\u001b[0m \u001b[38;5;28;43mself\u001b[39;49m\u001b[38;5;241;43m.\u001b[39;49m\u001b[43mendheaders\u001b[49m\u001b[43m(\u001b[49m\u001b[43mbody\u001b[49m\u001b[43m,\u001b[49m\u001b[43m \u001b[49m\u001b[43mencode_chunked\u001b[49m\u001b[38;5;241;43m=\u001b[39;49m\u001b[43mencode_chunked\u001b[49m\u001b[43m)\u001b[49m\n",
      "File \u001b[0;32m~/env_tf/lib/python3.8/http/client.py:1251\u001b[0m, in \u001b[0;36mHTTPConnection.endheaders\u001b[0;34m(self, message_body, encode_chunked)\u001b[0m\n\u001b[1;32m   1250\u001b[0m     \u001b[38;5;28;01mraise\u001b[39;00m CannotSendHeader()\n\u001b[0;32m-> 1251\u001b[0m \u001b[38;5;28;43mself\u001b[39;49m\u001b[38;5;241;43m.\u001b[39;49m\u001b[43m_send_output\u001b[49m\u001b[43m(\u001b[49m\u001b[43mmessage_body\u001b[49m\u001b[43m,\u001b[49m\u001b[43m \u001b[49m\u001b[43mencode_chunked\u001b[49m\u001b[38;5;241;43m=\u001b[39;49m\u001b[43mencode_chunked\u001b[49m\u001b[43m)\u001b[49m\n",
      "File \u001b[0;32m~/env_tf/lib/python3.8/http/client.py:1011\u001b[0m, in \u001b[0;36mHTTPConnection._send_output\u001b[0;34m(self, message_body, encode_chunked)\u001b[0m\n\u001b[1;32m   1010\u001b[0m \u001b[38;5;28;01mdel\u001b[39;00m \u001b[38;5;28mself\u001b[39m\u001b[38;5;241m.\u001b[39m_buffer[:]\n\u001b[0;32m-> 1011\u001b[0m \u001b[38;5;28;43mself\u001b[39;49m\u001b[38;5;241;43m.\u001b[39;49m\u001b[43msend\u001b[49m\u001b[43m(\u001b[49m\u001b[43mmsg\u001b[49m\u001b[43m)\u001b[49m\n\u001b[1;32m   1013\u001b[0m \u001b[38;5;28;01mif\u001b[39;00m message_body \u001b[38;5;129;01mis\u001b[39;00m \u001b[38;5;129;01mnot\u001b[39;00m \u001b[38;5;28;01mNone\u001b[39;00m:\n\u001b[1;32m   1014\u001b[0m \n\u001b[1;32m   1015\u001b[0m     \u001b[38;5;66;03m# create a consistent interface to message_body\u001b[39;00m\n",
      "File \u001b[0;32m~/env_tf/lib/python3.8/http/client.py:951\u001b[0m, in \u001b[0;36mHTTPConnection.send\u001b[0;34m(self, data)\u001b[0m\n\u001b[1;32m    950\u001b[0m \u001b[38;5;28;01mif\u001b[39;00m \u001b[38;5;28mself\u001b[39m\u001b[38;5;241m.\u001b[39mauto_open:\n\u001b[0;32m--> 951\u001b[0m     \u001b[38;5;28;43mself\u001b[39;49m\u001b[38;5;241;43m.\u001b[39;49m\u001b[43mconnect\u001b[49m\u001b[43m(\u001b[49m\u001b[43m)\u001b[49m\n\u001b[1;32m    952\u001b[0m \u001b[38;5;28;01melse\u001b[39;00m:\n",
      "File \u001b[0;32m~/env_tf/lib/python3.8/http/client.py:1418\u001b[0m, in \u001b[0;36mHTTPSConnection.connect\u001b[0;34m(self)\u001b[0m\n\u001b[1;32m   1416\u001b[0m \u001b[38;5;124m\"\u001b[39m\u001b[38;5;124mConnect to a host on a given (SSL) port.\u001b[39m\u001b[38;5;124m\"\u001b[39m\n\u001b[0;32m-> 1418\u001b[0m \u001b[38;5;28;43msuper\u001b[39;49m\u001b[43m(\u001b[49m\u001b[43m)\u001b[49m\u001b[38;5;241;43m.\u001b[39;49m\u001b[43mconnect\u001b[49m\u001b[43m(\u001b[49m\u001b[43m)\u001b[49m\n\u001b[1;32m   1420\u001b[0m \u001b[38;5;28;01mif\u001b[39;00m \u001b[38;5;28mself\u001b[39m\u001b[38;5;241m.\u001b[39m_tunnel_host:\n",
      "File \u001b[0;32m~/env_tf/lib/python3.8/http/client.py:922\u001b[0m, in \u001b[0;36mHTTPConnection.connect\u001b[0;34m(self)\u001b[0m\n\u001b[1;32m    921\u001b[0m \u001b[38;5;250m\u001b[39m\u001b[38;5;124;03m\"\"\"Connect to the host and port specified in __init__.\"\"\"\u001b[39;00m\n\u001b[0;32m--> 922\u001b[0m \u001b[38;5;28mself\u001b[39m\u001b[38;5;241m.\u001b[39msock \u001b[38;5;241m=\u001b[39m \u001b[38;5;28;43mself\u001b[39;49m\u001b[38;5;241;43m.\u001b[39;49m\u001b[43m_create_connection\u001b[49m\u001b[43m(\u001b[49m\n\u001b[1;32m    923\u001b[0m \u001b[43m    \u001b[49m\u001b[43m(\u001b[49m\u001b[38;5;28;43mself\u001b[39;49m\u001b[38;5;241;43m.\u001b[39;49m\u001b[43mhost\u001b[49m\u001b[43m,\u001b[49m\u001b[38;5;28;43mself\u001b[39;49m\u001b[38;5;241;43m.\u001b[39;49m\u001b[43mport\u001b[49m\u001b[43m)\u001b[49m\u001b[43m,\u001b[49m\u001b[43m \u001b[49m\u001b[38;5;28;43mself\u001b[39;49m\u001b[38;5;241;43m.\u001b[39;49m\u001b[43mtimeout\u001b[49m\u001b[43m,\u001b[49m\u001b[43m \u001b[49m\u001b[38;5;28;43mself\u001b[39;49m\u001b[38;5;241;43m.\u001b[39;49m\u001b[43msource_address\u001b[49m\u001b[43m)\u001b[49m\n\u001b[1;32m    924\u001b[0m \u001b[38;5;28mself\u001b[39m\u001b[38;5;241m.\u001b[39msock\u001b[38;5;241m.\u001b[39msetsockopt(socket\u001b[38;5;241m.\u001b[39mIPPROTO_TCP, socket\u001b[38;5;241m.\u001b[39mTCP_NODELAY, \u001b[38;5;241m1\u001b[39m)\n",
      "File \u001b[0;32m~/env_tf/lib/python3.8/socket.py:799\u001b[0m, in \u001b[0;36mcreate_connection\u001b[0;34m(address, timeout, source_address)\u001b[0m\n\u001b[1;32m    798\u001b[0m err \u001b[38;5;241m=\u001b[39m \u001b[38;5;28;01mNone\u001b[39;00m\n\u001b[0;32m--> 799\u001b[0m \u001b[38;5;28;01mfor\u001b[39;00m res \u001b[38;5;129;01min\u001b[39;00m \u001b[43mgetaddrinfo\u001b[49m\u001b[43m(\u001b[49m\u001b[43mhost\u001b[49m\u001b[43m,\u001b[49m\u001b[43m \u001b[49m\u001b[43mport\u001b[49m\u001b[43m,\u001b[49m\u001b[43m \u001b[49m\u001b[38;5;241;43m0\u001b[39;49m\u001b[43m,\u001b[49m\u001b[43m \u001b[49m\u001b[43mSOCK_STREAM\u001b[49m\u001b[43m)\u001b[49m:\n\u001b[1;32m    800\u001b[0m     af, socktype, proto, canonname, sa \u001b[38;5;241m=\u001b[39m res\n",
      "File \u001b[0;32m~/env_tf/lib/python3.8/socket.py:930\u001b[0m, in \u001b[0;36mgetaddrinfo\u001b[0;34m(host, port, family, type, proto, flags)\u001b[0m\n\u001b[1;32m    929\u001b[0m addrlist \u001b[38;5;241m=\u001b[39m []\n\u001b[0;32m--> 930\u001b[0m \u001b[38;5;28;01mfor\u001b[39;00m res \u001b[38;5;129;01min\u001b[39;00m \u001b[43m_socket\u001b[49m\u001b[38;5;241;43m.\u001b[39;49m\u001b[43mgetaddrinfo\u001b[49m\u001b[43m(\u001b[49m\u001b[43mhost\u001b[49m\u001b[43m,\u001b[49m\u001b[43m \u001b[49m\u001b[43mport\u001b[49m\u001b[43m,\u001b[49m\u001b[43m \u001b[49m\u001b[43mfamily\u001b[49m\u001b[43m,\u001b[49m\u001b[43m \u001b[49m\u001b[38;5;28;43mtype\u001b[39;49m\u001b[43m,\u001b[49m\u001b[43m \u001b[49m\u001b[43mproto\u001b[49m\u001b[43m,\u001b[49m\u001b[43m \u001b[49m\u001b[43mflags\u001b[49m\u001b[43m)\u001b[49m:\n\u001b[1;32m    931\u001b[0m     af, socktype, proto, canonname, sa \u001b[38;5;241m=\u001b[39m res\n",
      "\u001b[0;31mgaierror\u001b[0m: [Errno 8] nodename nor servname provided, or not known",
      "\nDuring handling of the above exception, another exception occurred:\n",
      "\u001b[0;31mURLError\u001b[0m                                  Traceback (most recent call last)",
      "File \u001b[0;32m~/env_tf/lib/python3.8/site-packages/keras/utils/data_utils.py:346\u001b[0m, in \u001b[0;36mget_file\u001b[0;34m(fname, origin, untar, md5_hash, file_hash, cache_subdir, hash_algorithm, extract, archive_format, cache_dir)\u001b[0m\n\u001b[1;32m    345\u001b[0m \u001b[38;5;28;01mtry\u001b[39;00m:\n\u001b[0;32m--> 346\u001b[0m     \u001b[43murlretrieve\u001b[49m\u001b[43m(\u001b[49m\u001b[43morigin\u001b[49m\u001b[43m,\u001b[49m\u001b[43m \u001b[49m\u001b[43mfpath\u001b[49m\u001b[43m,\u001b[49m\u001b[43m \u001b[49m\u001b[43mDLProgbar\u001b[49m\u001b[43m(\u001b[49m\u001b[43m)\u001b[49m\u001b[43m)\u001b[49m\n\u001b[1;32m    347\u001b[0m \u001b[38;5;28;01mexcept\u001b[39;00m urllib\u001b[38;5;241m.\u001b[39merror\u001b[38;5;241m.\u001b[39mHTTPError \u001b[38;5;28;01mas\u001b[39;00m e:\n",
      "File \u001b[0;32m~/env_tf/lib/python3.8/site-packages/keras/utils/data_utils.py:85\u001b[0m, in \u001b[0;36murlretrieve\u001b[0;34m(url, filename, reporthook, data)\u001b[0m\n\u001b[1;32m     83\u001b[0m             \u001b[38;5;28;01mbreak\u001b[39;00m\n\u001b[0;32m---> 85\u001b[0m response \u001b[38;5;241m=\u001b[39m \u001b[43murlopen\u001b[49m\u001b[43m(\u001b[49m\u001b[43murl\u001b[49m\u001b[43m,\u001b[49m\u001b[43m \u001b[49m\u001b[43mdata\u001b[49m\u001b[43m)\u001b[49m\n\u001b[1;32m     86\u001b[0m \u001b[38;5;28;01mwith\u001b[39;00m \u001b[38;5;28mopen\u001b[39m(filename, \u001b[38;5;124m\"\u001b[39m\u001b[38;5;124mwb\u001b[39m\u001b[38;5;124m\"\u001b[39m) \u001b[38;5;28;01mas\u001b[39;00m fd:\n",
      "File \u001b[0;32m~/env_tf/lib/python3.8/urllib/request.py:222\u001b[0m, in \u001b[0;36murlopen\u001b[0;34m(url, data, timeout, cafile, capath, cadefault, context)\u001b[0m\n\u001b[1;32m    221\u001b[0m     opener \u001b[38;5;241m=\u001b[39m _opener\n\u001b[0;32m--> 222\u001b[0m \u001b[38;5;28;01mreturn\u001b[39;00m \u001b[43mopener\u001b[49m\u001b[38;5;241;43m.\u001b[39;49m\u001b[43mopen\u001b[49m\u001b[43m(\u001b[49m\u001b[43murl\u001b[49m\u001b[43m,\u001b[49m\u001b[43m \u001b[49m\u001b[43mdata\u001b[49m\u001b[43m,\u001b[49m\u001b[43m \u001b[49m\u001b[43mtimeout\u001b[49m\u001b[43m)\u001b[49m\n",
      "File \u001b[0;32m~/env_tf/lib/python3.8/urllib/request.py:525\u001b[0m, in \u001b[0;36mOpenerDirector.open\u001b[0;34m(self, fullurl, data, timeout)\u001b[0m\n\u001b[1;32m    524\u001b[0m sys\u001b[38;5;241m.\u001b[39maudit(\u001b[38;5;124m'\u001b[39m\u001b[38;5;124murllib.Request\u001b[39m\u001b[38;5;124m'\u001b[39m, req\u001b[38;5;241m.\u001b[39mfull_url, req\u001b[38;5;241m.\u001b[39mdata, req\u001b[38;5;241m.\u001b[39mheaders, req\u001b[38;5;241m.\u001b[39mget_method())\n\u001b[0;32m--> 525\u001b[0m response \u001b[38;5;241m=\u001b[39m \u001b[38;5;28;43mself\u001b[39;49m\u001b[38;5;241;43m.\u001b[39;49m\u001b[43m_open\u001b[49m\u001b[43m(\u001b[49m\u001b[43mreq\u001b[49m\u001b[43m,\u001b[49m\u001b[43m \u001b[49m\u001b[43mdata\u001b[49m\u001b[43m)\u001b[49m\n\u001b[1;32m    527\u001b[0m \u001b[38;5;66;03m# post-process response\u001b[39;00m\n",
      "File \u001b[0;32m~/env_tf/lib/python3.8/urllib/request.py:542\u001b[0m, in \u001b[0;36mOpenerDirector._open\u001b[0;34m(self, req, data)\u001b[0m\n\u001b[1;32m    541\u001b[0m protocol \u001b[38;5;241m=\u001b[39m req\u001b[38;5;241m.\u001b[39mtype\n\u001b[0;32m--> 542\u001b[0m result \u001b[38;5;241m=\u001b[39m \u001b[38;5;28;43mself\u001b[39;49m\u001b[38;5;241;43m.\u001b[39;49m\u001b[43m_call_chain\u001b[49m\u001b[43m(\u001b[49m\u001b[38;5;28;43mself\u001b[39;49m\u001b[38;5;241;43m.\u001b[39;49m\u001b[43mhandle_open\u001b[49m\u001b[43m,\u001b[49m\u001b[43m \u001b[49m\u001b[43mprotocol\u001b[49m\u001b[43m,\u001b[49m\u001b[43m \u001b[49m\u001b[43mprotocol\u001b[49m\u001b[43m \u001b[49m\u001b[38;5;241;43m+\u001b[39;49m\n\u001b[1;32m    543\u001b[0m \u001b[43m                          \u001b[49m\u001b[38;5;124;43m'\u001b[39;49m\u001b[38;5;124;43m_open\u001b[39;49m\u001b[38;5;124;43m'\u001b[39;49m\u001b[43m,\u001b[49m\u001b[43m \u001b[49m\u001b[43mreq\u001b[49m\u001b[43m)\u001b[49m\n\u001b[1;32m    544\u001b[0m \u001b[38;5;28;01mif\u001b[39;00m result:\n",
      "File \u001b[0;32m~/env_tf/lib/python3.8/urllib/request.py:502\u001b[0m, in \u001b[0;36mOpenerDirector._call_chain\u001b[0;34m(self, chain, kind, meth_name, *args)\u001b[0m\n\u001b[1;32m    501\u001b[0m func \u001b[38;5;241m=\u001b[39m \u001b[38;5;28mgetattr\u001b[39m(handler, meth_name)\n\u001b[0;32m--> 502\u001b[0m result \u001b[38;5;241m=\u001b[39m \u001b[43mfunc\u001b[49m\u001b[43m(\u001b[49m\u001b[38;5;241;43m*\u001b[39;49m\u001b[43margs\u001b[49m\u001b[43m)\u001b[49m\n\u001b[1;32m    503\u001b[0m \u001b[38;5;28;01mif\u001b[39;00m result \u001b[38;5;129;01mis\u001b[39;00m \u001b[38;5;129;01mnot\u001b[39;00m \u001b[38;5;28;01mNone\u001b[39;00m:\n",
      "File \u001b[0;32m~/env_tf/lib/python3.8/urllib/request.py:1397\u001b[0m, in \u001b[0;36mHTTPSHandler.https_open\u001b[0;34m(self, req)\u001b[0m\n\u001b[1;32m   1396\u001b[0m \u001b[38;5;28;01mdef\u001b[39;00m \u001b[38;5;21mhttps_open\u001b[39m(\u001b[38;5;28mself\u001b[39m, req):\n\u001b[0;32m-> 1397\u001b[0m     \u001b[38;5;28;01mreturn\u001b[39;00m \u001b[38;5;28;43mself\u001b[39;49m\u001b[38;5;241;43m.\u001b[39;49m\u001b[43mdo_open\u001b[49m\u001b[43m(\u001b[49m\u001b[43mhttp\u001b[49m\u001b[38;5;241;43m.\u001b[39;49m\u001b[43mclient\u001b[49m\u001b[38;5;241;43m.\u001b[39;49m\u001b[43mHTTPSConnection\u001b[49m\u001b[43m,\u001b[49m\u001b[43m \u001b[49m\u001b[43mreq\u001b[49m\u001b[43m,\u001b[49m\n\u001b[1;32m   1398\u001b[0m \u001b[43m        \u001b[49m\u001b[43mcontext\u001b[49m\u001b[38;5;241;43m=\u001b[39;49m\u001b[38;5;28;43mself\u001b[39;49m\u001b[38;5;241;43m.\u001b[39;49m\u001b[43m_context\u001b[49m\u001b[43m,\u001b[49m\u001b[43m \u001b[49m\u001b[43mcheck_hostname\u001b[49m\u001b[38;5;241;43m=\u001b[39;49m\u001b[38;5;28;43mself\u001b[39;49m\u001b[38;5;241;43m.\u001b[39;49m\u001b[43m_check_hostname\u001b[49m\u001b[43m)\u001b[49m\n",
      "File \u001b[0;32m~/env_tf/lib/python3.8/urllib/request.py:1357\u001b[0m, in \u001b[0;36mAbstractHTTPHandler.do_open\u001b[0;34m(self, http_class, req, **http_conn_args)\u001b[0m\n\u001b[1;32m   1356\u001b[0m \u001b[38;5;28;01mexcept\u001b[39;00m \u001b[38;5;167;01mOSError\u001b[39;00m \u001b[38;5;28;01mas\u001b[39;00m err: \u001b[38;5;66;03m# timeout error\u001b[39;00m\n\u001b[0;32m-> 1357\u001b[0m     \u001b[38;5;28;01mraise\u001b[39;00m URLError(err)\n\u001b[1;32m   1358\u001b[0m r \u001b[38;5;241m=\u001b[39m h\u001b[38;5;241m.\u001b[39mgetresponse()\n",
      "\u001b[0;31mURLError\u001b[0m: <urlopen error [Errno 8] nodename nor servname provided, or not known>",
      "\nDuring handling of the above exception, another exception occurred:\n",
      "\u001b[0;31mException\u001b[0m                                 Traceback (most recent call last)",
      "Cell \u001b[0;32mIn[67], line 1\u001b[0m\n\u001b[0;32m----> 1\u001b[0m base_model \u001b[38;5;241m=\u001b[39m \u001b[43mDenseNet121\u001b[49m\u001b[43m(\u001b[49m\u001b[43mweights\u001b[49m\u001b[38;5;241;43m=\u001b[39;49m\u001b[38;5;124;43m'\u001b[39;49m\u001b[38;5;124;43mimagenet\u001b[39;49m\u001b[38;5;124;43m'\u001b[39;49m\u001b[43m,\u001b[49m\u001b[43m \u001b[49m\u001b[43minclude_top\u001b[49m\u001b[38;5;241;43m=\u001b[39;49m\u001b[38;5;28;43;01mFalse\u001b[39;49;00m\u001b[43m,\u001b[49m\u001b[43m \u001b[49m\u001b[43minput_shape\u001b[49m\u001b[38;5;241;43m=\u001b[39;49m\u001b[43m(\u001b[49m\u001b[38;5;241;43m224\u001b[39;49m\u001b[43m,\u001b[49m\u001b[43m \u001b[49m\u001b[38;5;241;43m224\u001b[39;49m\u001b[43m,\u001b[49m\u001b[43m \u001b[49m\u001b[38;5;241;43m3\u001b[39;49m\u001b[43m)\u001b[49m\u001b[43m)\u001b[49m\n\u001b[1;32m      2\u001b[0m base_model\u001b[38;5;241m.\u001b[39mtrainable \u001b[38;5;241m=\u001b[39m \u001b[38;5;28;01mFalse\u001b[39;00m\n",
      "File \u001b[0;32m~/env_tf/lib/python3.8/site-packages/keras/applications/densenet.py:358\u001b[0m, in \u001b[0;36mDenseNet121\u001b[0;34m(include_top, weights, input_tensor, input_shape, pooling, classes, classifier_activation)\u001b[0m\n\u001b[1;32m    345\u001b[0m \u001b[38;5;129m@keras_export\u001b[39m(\n\u001b[1;32m    346\u001b[0m     \u001b[38;5;124m\"\u001b[39m\u001b[38;5;124mkeras.applications.densenet.DenseNet121\u001b[39m\u001b[38;5;124m\"\u001b[39m, \u001b[38;5;124m\"\u001b[39m\u001b[38;5;124mkeras.applications.DenseNet121\u001b[39m\u001b[38;5;124m\"\u001b[39m\n\u001b[1;32m    347\u001b[0m )\n\u001b[0;32m   (...)\u001b[0m\n\u001b[1;32m    355\u001b[0m     classifier_activation\u001b[38;5;241m=\u001b[39m\u001b[38;5;124m\"\u001b[39m\u001b[38;5;124msoftmax\u001b[39m\u001b[38;5;124m\"\u001b[39m,\n\u001b[1;32m    356\u001b[0m ):\n\u001b[1;32m    357\u001b[0m \u001b[38;5;250m    \u001b[39m\u001b[38;5;124;03m\"\"\"Instantiates the Densenet121 architecture.\"\"\"\u001b[39;00m\n\u001b[0;32m--> 358\u001b[0m     \u001b[38;5;28;01mreturn\u001b[39;00m \u001b[43mDenseNet\u001b[49m\u001b[43m(\u001b[49m\n\u001b[1;32m    359\u001b[0m \u001b[43m        \u001b[49m\u001b[43m[\u001b[49m\u001b[38;5;241;43m6\u001b[39;49m\u001b[43m,\u001b[49m\u001b[43m \u001b[49m\u001b[38;5;241;43m12\u001b[39;49m\u001b[43m,\u001b[49m\u001b[43m \u001b[49m\u001b[38;5;241;43m24\u001b[39;49m\u001b[43m,\u001b[49m\u001b[43m \u001b[49m\u001b[38;5;241;43m16\u001b[39;49m\u001b[43m]\u001b[49m\u001b[43m,\u001b[49m\n\u001b[1;32m    360\u001b[0m \u001b[43m        \u001b[49m\u001b[43minclude_top\u001b[49m\u001b[43m,\u001b[49m\n\u001b[1;32m    361\u001b[0m \u001b[43m        \u001b[49m\u001b[43mweights\u001b[49m\u001b[43m,\u001b[49m\n\u001b[1;32m    362\u001b[0m \u001b[43m        \u001b[49m\u001b[43minput_tensor\u001b[49m\u001b[43m,\u001b[49m\n\u001b[1;32m    363\u001b[0m \u001b[43m        \u001b[49m\u001b[43minput_shape\u001b[49m\u001b[43m,\u001b[49m\n\u001b[1;32m    364\u001b[0m \u001b[43m        \u001b[49m\u001b[43mpooling\u001b[49m\u001b[43m,\u001b[49m\n\u001b[1;32m    365\u001b[0m \u001b[43m        \u001b[49m\u001b[43mclasses\u001b[49m\u001b[43m,\u001b[49m\n\u001b[1;32m    366\u001b[0m \u001b[43m        \u001b[49m\u001b[43mclassifier_activation\u001b[49m\u001b[43m,\u001b[49m\n\u001b[1;32m    367\u001b[0m \u001b[43m    \u001b[49m\u001b[43m)\u001b[49m\n",
      "File \u001b[0;32m~/env_tf/lib/python3.8/site-packages/keras/applications/densenet.py:318\u001b[0m, in \u001b[0;36mDenseNet\u001b[0;34m(blocks, include_top, weights, input_tensor, input_shape, pooling, classes, classifier_activation)\u001b[0m\n\u001b[1;32m    316\u001b[0m \u001b[38;5;28;01melse\u001b[39;00m:\n\u001b[1;32m    317\u001b[0m     \u001b[38;5;28;01mif\u001b[39;00m blocks \u001b[38;5;241m==\u001b[39m [\u001b[38;5;241m6\u001b[39m, \u001b[38;5;241m12\u001b[39m, \u001b[38;5;241m24\u001b[39m, \u001b[38;5;241m16\u001b[39m]:\n\u001b[0;32m--> 318\u001b[0m         weights_path \u001b[38;5;241m=\u001b[39m \u001b[43mdata_utils\u001b[49m\u001b[38;5;241;43m.\u001b[39;49m\u001b[43mget_file\u001b[49m\u001b[43m(\u001b[49m\n\u001b[1;32m    319\u001b[0m \u001b[43m            \u001b[49m\u001b[38;5;124;43m\"\u001b[39;49m\u001b[38;5;124;43mdensenet121_weights_tf_dim_ordering_tf_kernels_notop.h5\u001b[39;49m\u001b[38;5;124;43m\"\u001b[39;49m\u001b[43m,\u001b[49m\n\u001b[1;32m    320\u001b[0m \u001b[43m            \u001b[49m\u001b[43mDENSENET121_WEIGHT_PATH_NO_TOP\u001b[49m\u001b[43m,\u001b[49m\n\u001b[1;32m    321\u001b[0m \u001b[43m            \u001b[49m\u001b[43mcache_subdir\u001b[49m\u001b[38;5;241;43m=\u001b[39;49m\u001b[38;5;124;43m\"\u001b[39;49m\u001b[38;5;124;43mmodels\u001b[39;49m\u001b[38;5;124;43m\"\u001b[39;49m\u001b[43m,\u001b[49m\n\u001b[1;32m    322\u001b[0m \u001b[43m            \u001b[49m\u001b[43mfile_hash\u001b[49m\u001b[38;5;241;43m=\u001b[39;49m\u001b[38;5;124;43m\"\u001b[39;49m\u001b[38;5;124;43m30ee3e1110167f948a6b9946edeeb738\u001b[39;49m\u001b[38;5;124;43m\"\u001b[39;49m\u001b[43m,\u001b[49m\n\u001b[1;32m    323\u001b[0m \u001b[43m        \u001b[49m\u001b[43m)\u001b[49m\n\u001b[1;32m    324\u001b[0m     \u001b[38;5;28;01melif\u001b[39;00m blocks \u001b[38;5;241m==\u001b[39m [\u001b[38;5;241m6\u001b[39m, \u001b[38;5;241m12\u001b[39m, \u001b[38;5;241m32\u001b[39m, \u001b[38;5;241m32\u001b[39m]:\n\u001b[1;32m    325\u001b[0m         weights_path \u001b[38;5;241m=\u001b[39m data_utils\u001b[38;5;241m.\u001b[39mget_file(\n\u001b[1;32m    326\u001b[0m             \u001b[38;5;124m\"\u001b[39m\u001b[38;5;124mdensenet169_weights_tf_dim_ordering_tf_kernels_notop.h5\u001b[39m\u001b[38;5;124m\"\u001b[39m,\n\u001b[1;32m    327\u001b[0m             DENSENET169_WEIGHT_PATH_NO_TOP,\n\u001b[1;32m    328\u001b[0m             cache_subdir\u001b[38;5;241m=\u001b[39m\u001b[38;5;124m\"\u001b[39m\u001b[38;5;124mmodels\u001b[39m\u001b[38;5;124m\"\u001b[39m,\n\u001b[1;32m    329\u001b[0m             file_hash\u001b[38;5;241m=\u001b[39m\u001b[38;5;124m\"\u001b[39m\u001b[38;5;124mb8c4d4c20dd625c148057b9ff1c1176b\u001b[39m\u001b[38;5;124m\"\u001b[39m,\n\u001b[1;32m    330\u001b[0m         )\n",
      "File \u001b[0;32m~/env_tf/lib/python3.8/site-packages/keras/utils/data_utils.py:350\u001b[0m, in \u001b[0;36mget_file\u001b[0;34m(fname, origin, untar, md5_hash, file_hash, cache_subdir, hash_algorithm, extract, archive_format, cache_dir)\u001b[0m\n\u001b[1;32m    348\u001b[0m         \u001b[38;5;28;01mraise\u001b[39;00m \u001b[38;5;167;01mException\u001b[39;00m(error_msg\u001b[38;5;241m.\u001b[39mformat(origin, e\u001b[38;5;241m.\u001b[39mcode, e\u001b[38;5;241m.\u001b[39mmsg))\n\u001b[1;32m    349\u001b[0m     \u001b[38;5;28;01mexcept\u001b[39;00m urllib\u001b[38;5;241m.\u001b[39merror\u001b[38;5;241m.\u001b[39mURLError \u001b[38;5;28;01mas\u001b[39;00m e:\n\u001b[0;32m--> 350\u001b[0m         \u001b[38;5;28;01mraise\u001b[39;00m \u001b[38;5;167;01mException\u001b[39;00m(error_msg\u001b[38;5;241m.\u001b[39mformat(origin, e\u001b[38;5;241m.\u001b[39merrno, e\u001b[38;5;241m.\u001b[39mreason))\n\u001b[1;32m    351\u001b[0m \u001b[38;5;28;01mexcept\u001b[39;00m (\u001b[38;5;167;01mException\u001b[39;00m, \u001b[38;5;167;01mKeyboardInterrupt\u001b[39;00m):\n\u001b[1;32m    352\u001b[0m     \u001b[38;5;28;01mif\u001b[39;00m os\u001b[38;5;241m.\u001b[39mpath\u001b[38;5;241m.\u001b[39mexists(fpath):\n",
      "\u001b[0;31mException\u001b[0m: URL fetch failure on https://storage.googleapis.com/tensorflow/keras-applications/densenet/densenet121_weights_tf_dim_ordering_tf_kernels_notop.h5: None -- [Errno 8] nodename nor servname provided, or not known"
     ]
    }
   ],
   "source": [
    "base_model = DenseNet121(weights='imagenet', include_top=False, input_shape=(224, 224, 3))\n",
    "base_model.trainable = False"
   ]
  },
  {
   "cell_type": "code",
   "execution_count": 68,
   "id": "8f813dd0-1e86-47e3-ac57-230fc626e3e4",
   "metadata": {},
   "outputs": [],
   "source": [
    "# Transfer learning using pre-trained model for feature extraction and multi-class classification\n",
    "model = Sequential([\n",
    "    base_model,\n",
    "    Flatten(),\n",
    "    Dense(256, activation='relu'),\n",
    "    Dropout(0.5),\n",
    "    Dense(train_generator.num_classes, activation='softmax')\n",
    "])"
   ]
  },
  {
   "cell_type": "code",
   "execution_count": 69,
   "id": "cb96a80a-08df-493e-ab37-f8199e8006c3",
   "metadata": {},
   "outputs": [],
   "source": [
    "model.compile(optimizer='adam', loss='categorical_crossentropy', metrics=['accuracy'])"
   ]
  },
  {
   "cell_type": "code",
   "execution_count": 70,
   "id": "57684e81-5b48-41df-8ac8-09ba9e7138b1",
   "metadata": {},
   "outputs": [],
   "source": [
    "early_stopping = EarlyStopping(monitor='val_loss', patience=5, restore_best_weights=True)"
   ]
  },
  {
   "cell_type": "code",
   "execution_count": 71,
   "id": "de21dd37-1381-4637-9187-61662816c2e3",
   "metadata": {},
   "outputs": [
    {
     "name": "stdout",
     "output_type": "stream",
     "text": [
      "Epoch 1/10\n"
     ]
    },
    {
     "name": "stderr",
     "output_type": "stream",
     "text": [
      "2024-11-19 16:59:11.359213: I tensorflow/core/common_runtime/executor.cc:1197] [/device:CPU:0] (DEBUG INFO) Executor start aborting (this does not indicate an error and you can ignore this message): INVALID_ARGUMENT: You must feed a value for placeholder tensor 'Placeholder/_0' with dtype int32\n",
      "\t [[{{node Placeholder/_0}}]]\n"
     ]
    },
    {
     "name": "stdout",
     "output_type": "stream",
     "text": [
      "90/90 [==============================] - ETA: 0s - loss: 3.3450 - accuracy: 0.2948"
     ]
    },
    {
     "name": "stderr",
     "output_type": "stream",
     "text": [
      "2024-11-19 17:03:38.515913: I tensorflow/core/common_runtime/executor.cc:1197] [/device:CPU:0] (DEBUG INFO) Executor start aborting (this does not indicate an error and you can ignore this message): INVALID_ARGUMENT: You must feed a value for placeholder tensor 'Placeholder/_0' with dtype int32\n",
      "\t [[{{node Placeholder/_0}}]]\n"
     ]
    },
    {
     "name": "stdout",
     "output_type": "stream",
     "text": [
      "90/90 [==============================] - 299s 3s/step - loss: 3.3450 - accuracy: 0.2948 - val_loss: 1.6423 - val_accuracy: 0.3452\n",
      "Epoch 2/10\n",
      "90/90 [==============================] - 435s 5s/step - loss: 1.4525 - accuracy: 0.3094 - val_loss: 1.5018 - val_accuracy: 0.3020\n",
      "Epoch 3/10\n",
      "90/90 [==============================] - 404s 4s/step - loss: 1.4388 - accuracy: 0.3066 - val_loss: 1.4844 - val_accuracy: 0.3756\n",
      "Epoch 4/10\n",
      "90/90 [==============================] - 386s 4s/step - loss: 1.4128 - accuracy: 0.2937 - val_loss: 1.6444 - val_accuracy: 0.2919\n",
      "Epoch 5/10\n",
      "90/90 [==============================] - 370s 4s/step - loss: 1.4064 - accuracy: 0.3084 - val_loss: 1.8782 - val_accuracy: 0.3147\n",
      "Epoch 6/10\n",
      "90/90 [==============================] - 385s 4s/step - loss: 1.3718 - accuracy: 0.3038 - val_loss: 1.6298 - val_accuracy: 0.3452\n",
      "Epoch 7/10\n",
      "90/90 [==============================] - 377s 4s/step - loss: 1.3648 - accuracy: 0.3146 - val_loss: 1.7048 - val_accuracy: 0.3401\n",
      "Epoch 8/10\n",
      "90/90 [==============================] - 405s 5s/step - loss: 1.3655 - accuracy: 0.3115 - val_loss: 2.2905 - val_accuracy: 0.3325\n"
     ]
    }
   ],
   "source": [
    "# Model fitting on the train data and evaluating performance with test data for validation\n",
    "history = model.fit(\n",
    "    train_generator,\n",
    "    validation_data=test_generator,\n",
    "    epochs=10,\n",
    "    callbacks=[early_stopping]\n",
    ")"
   ]
  },
  {
   "cell_type": "code",
   "execution_count": 73,
   "id": "db21556f-370f-4b70-be7f-e110a29aa38a",
   "metadata": {},
   "outputs": [
    {
     "name": "stderr",
     "output_type": "stream",
     "text": [
      "2024-11-19 17:53:15.874626: I tensorflow/core/common_runtime/executor.cc:1197] [/device:CPU:0] (DEBUG INFO) Executor start aborting (this does not indicate an error and you can ignore this message): INVALID_ARGUMENT: You must feed a value for placeholder tensor 'Placeholder/_0' with dtype int32\n",
      "\t [[{{node Placeholder/_0}}]]\n"
     ]
    },
    {
     "name": "stdout",
     "output_type": "stream",
     "text": [
      "13/13 [==============================] - 42s 3s/step - loss: 1.4844 - accuracy: 0.3756\n",
      "Test Loss: 1.4843937158584595\n",
      "Test Accuracy: 0.3756345212459564\n"
     ]
    }
   ],
   "source": [
    "loss, accuracy = model.evaluate(test_generator)\n",
    "print(f\"Test Loss: {loss}\")\n",
    "print(f\"Test Accuracy: {accuracy}\")"
   ]
  },
  {
   "cell_type": "code",
   "execution_count": 74,
   "id": "ffda1f8a-7df2-47d6-bd70-d5d8a1577e4d",
   "metadata": {},
   "outputs": [],
   "source": [
    "model_path = '/Users/sibikarthik/**R2S PROJECT/Models/mri_densenet_3.h5'\n",
    "model.save(model_path)"
   ]
  },
  {
   "cell_type": "code",
   "execution_count": 75,
   "id": "a70b9c7f-ebe6-4c7c-9962-28cdc6cdfc0a",
   "metadata": {},
   "outputs": [],
   "source": [
    "def predict_image(image_path):\n",
    "    # Loading the trained model\n",
    "    model = load_model(model_path)\n",
    "    \n",
    "    # Loading and preprocessing of the image\n",
    "    img = image.load_img(image_path, target_size=(224, 224))\n",
    "    img_array = image.img_to_array(img) / 255.0  # Normalize\n",
    "    img_array = np.expand_dims(img_array, axis=0)  # Add batch dimension\n",
    "\n",
    "    # Prediction of the class\n",
    "    predictions = model.predict(img_array)\n",
    "    predicted_class_index = np.argmax(predictions)\n",
    "    class_labels = list(train_generator.class_indices.keys())\n",
    "    predicted_class = class_labels[predicted_class_index]\n",
    "    \n",
    "    return predicted_class"
   ]
  },
  {
   "cell_type": "code",
   "execution_count": null,
   "id": "a90c0fd4-cfe2-4827-aef2-1ba6a68b1547",
   "metadata": {},
   "outputs": [],
   "source": [
    "# Example usage: Upload an image and check the prediction\n",
    "model = load_model('/Users/sibikarthik/**R2S PROJECT/Models/mri_densenet_3.h5')\n",
    "image_path = '/Users/sibikarthik/**R2S PROJECT/Data 3 (MRI)/train/Pituitary Tumor/p (100).jpg'\n",
    "result = predict_image(image_path)\n",
    "print(f\"The uploaded image is predicted to be: {result}\")"
   ]
  },
  {
   "cell_type": "markdown",
   "id": "98130ace-2d80-4600-987c-9abc46a40c15",
   "metadata": {},
   "source": [
    "###"
   ]
  },
  {
   "cell_type": "markdown",
   "id": "bb7d0a21-ba21-4c68-8131-a0fde36ecd6c",
   "metadata": {},
   "source": [
    "### 4) CT - Kidney (Cyst | Normal | Stone | Tumor) [VGG]"
   ]
  },
  {
   "cell_type": "code",
   "execution_count": 76,
   "id": "f8ddb27f-9348-492b-8cb0-1cf56d2f7d32",
   "metadata": {},
   "outputs": [],
   "source": [
    "dataset_path_4 = \"/Users/sibikarthik/**R2S PROJECT/Data 4 (CT - Kidney)\"\n",
    "train_path_4 = \"/Users/sibikarthik/**R2S PROJECT/Data 4 (CT - Kidney)/train\"\n",
    "test_path_4 = \"/Users/sibikarthik/**R2S PROJECT/Data 4 (CT - Kidney)/test\""
   ]
  },
  {
   "cell_type": "code",
   "execution_count": 77,
   "id": "c4aa7fe7-c920-495e-8f64-0265c8d45e1f",
   "metadata": {},
   "outputs": [
    {
     "data": {
      "image/png": "[encoded data removed]",
      "text/plain": [
       "<Figure size 500x500 with 1 Axes>"
      ]
     },
     "metadata": {},
     "output_type": "display_data"
    },
    {
     "name": "stdout",
     "output_type": "stream",
     "text": [
      "Number of Cyst images in train is 2351\n",
      "Number of Normal images in train is 2351\n",
      "Number of Stone images in train is 2351\n",
      "Number of Tumor images in train is 2351\n"
     ]
    },
    {
     "data": {
      "image/png": "[encoded data removed]",
      "text/plain": [
       "<Figure size 500x500 with 1 Axes>"
      ]
     },
     "metadata": {},
     "output_type": "display_data"
    },
    {
     "name": "stdout",
     "output_type": "stream",
     "text": [
      "Number of Cyst images in test is 588\n",
      "Number of Normal images in test is 588\n",
      "Number of Stone images in test is 588\n",
      "Number of Tumor images in test is 588\n"
     ]
    }
   ],
   "source": [
    "train_cyst = [x for x in os.listdir('/Users/sibikarthik/**R2S PROJECT/Data 4 (CT - Kidney)/train/Cyst') if not x.startswith('.')]\n",
    "train_normal = [x for x in os.listdir('/Users/sibikarthik/**R2S PROJECT/Data 4 (CT - Kidney)/train/Normal') if not x.startswith('.')]\n",
    "train_stone = [x for x in os.listdir('/Users/sibikarthik/**R2S PROJECT/Data 4 (CT - Kidney)/train/Stone') if not x.startswith('.')]\n",
    "train_tumor = [x for x in os.listdir('/Users/sibikarthik/**R2S PROJECT/Data 4 (CT - Kidney)/train/Tumor') if not x.startswith('.')]\n",
    "test_cyst = [x for x in os.listdir('/Users/sibikarthik/**R2S PROJECT/Data 4 (CT - Kidney)/test/Cyst') if not x.startswith('.')]\n",
    "test_normal = [x for x in os.listdir('/Users/sibikarthik/**R2S PROJECT/Data 4 (CT - Kidney)/test/Normal') if not x.startswith('.')]\n",
    "test_stone = [x for x in os.listdir('/Users/sibikarthik/**R2S PROJECT/Data 4 (CT - Kidney)/test/Stone') if not x.startswith('.')]\n",
    "test_tumor = [x for x in os.listdir('/Users/sibikarthik/**R2S PROJECT/Data 4 (CT - Kidney)/test/Tumor') if not x.startswith('.')]\n",
    "\n",
    "classes = ['Cyst','Normal','Stone','Tumor']\n",
    "counts = [len(train_cyst),len(train_normal),len(train_stone),len(train_tumor)]\n",
    "plot_bar(classes,counts,'Train data')\n",
    "for i in range(len(classes)):\n",
    "    print('Number of '+classes[i]+' images in train is '+str(counts[i]))\n",
    "\n",
    "classes = ['Cyst','Normal','Stone','Tumor']\n",
    "counts = [len(test_cyst),len(test_normal),len(test_stone),len(test_tumor)]\n",
    "plot_bar(classes,counts,'Test data')\n",
    "for i in range(len(classes)):\n",
    "    print('Number of '+classes[i]+' images in test is '+str(counts[i]))"
   ]
  },
  {
   "cell_type": "code",
   "execution_count": 78,
   "id": "137ee311-0930-41c3-95eb-02520e06a6c8",
   "metadata": {},
   "outputs": [
    {
     "name": "stdout",
     "output_type": "stream",
     "text": [
      "DATASET SUMMARY\n",
      "---------------------------------------\n",
      "there are 2 directories and 0 images in /Users/sibikarthik/**R2S PROJECT/Data 4 (CT - Kidney)\n",
      "there are 4 directories and 0 images in /Users/sibikarthik/**R2S PROJECT/Data 4 (CT - Kidney)/test\n",
      "there are 0 directories and 588 images in /Users/sibikarthik/**R2S PROJECT/Data 4 (CT - Kidney)/test/Tumor\n",
      "there are 0 directories and 588 images in /Users/sibikarthik/**R2S PROJECT/Data 4 (CT - Kidney)/test/Cyst\n",
      "there are 0 directories and 588 images in /Users/sibikarthik/**R2S PROJECT/Data 4 (CT - Kidney)/test/Stone\n",
      "there are 0 directories and 588 images in /Users/sibikarthik/**R2S PROJECT/Data 4 (CT - Kidney)/test/Normal\n",
      "there are 4 directories and 0 images in /Users/sibikarthik/**R2S PROJECT/Data 4 (CT - Kidney)/train\n",
      "there are 0 directories and 2351 images in /Users/sibikarthik/**R2S PROJECT/Data 4 (CT - Kidney)/train/Tumor\n",
      "there are 0 directories and 2351 images in /Users/sibikarthik/**R2S PROJECT/Data 4 (CT - Kidney)/train/Cyst\n",
      "there are 0 directories and 2351 images in /Users/sibikarthik/**R2S PROJECT/Data 4 (CT - Kidney)/train/Stone\n",
      "there are 0 directories and 2351 images in /Users/sibikarthik/**R2S PROJECT/Data 4 (CT - Kidney)/train/Normal\n",
      "\n",
      "---------------------------------------\n"
     ]
    }
   ],
   "source": [
    "#Generate a summary of dataset:\n",
    "\n",
    "print(\"DATASET SUMMARY\")\n",
    "print(\"---------------------------------------\")\n",
    "\n",
    "for dirpath, dirnames, filenames in os.walk(dataset_path_4):\n",
    "    dirnames[:] = [d for d in dirnames if not d.startswith('.')]\n",
    "    filenames = [f for f in filenames if not f.startswith('.')]\n",
    "    print(f'there are {len(dirnames)} directories and {len(filenames)} images in {dirpath}')\n",
    "print('\\n---------------------------------------')"
   ]
  },
  {
   "cell_type": "markdown",
   "id": "193fe2f6-0c4d-4f46-9947-4559f279c71b",
   "metadata": {},
   "source": [
    "##### Modification of directories after train-test data split (80%-20%)"
   ]
  },
  {
   "cell_type": "code",
   "execution_count": 79,
   "id": "59834520-7a85-451d-8be5-254f3f0c9f86",
   "metadata": {},
   "outputs": [
    {
     "ename": "FileNotFoundError",
     "evalue": "[Errno 2] No such file or directory: '/Users/sibikarthik/**R2S PROJECT/Data 4 (CT - Kidney)/Cyst'",
     "output_type": "error",
     "traceback": [
      "\u001b[0;31m---------------------------------------------------------------------------\u001b[0m",
      "\u001b[0;31mFileNotFoundError\u001b[0m                         Traceback (most recent call last)",
      "Cell \u001b[0;32mIn[79], line 24\u001b[0m\n\u001b[1;32m     22\u001b[0m \u001b[38;5;28;01mfor\u001b[39;00m category \u001b[38;5;129;01min\u001b[39;00m categories:\n\u001b[1;32m     23\u001b[0m     category_path \u001b[38;5;241m=\u001b[39m os\u001b[38;5;241m.\u001b[39mpath\u001b[38;5;241m.\u001b[39mjoin(original_dir, category)\n\u001b[0;32m---> 24\u001b[0m     images \u001b[38;5;241m=\u001b[39m \u001b[43mos\u001b[49m\u001b[38;5;241;43m.\u001b[39;49m\u001b[43mlistdir\u001b[49m\u001b[43m(\u001b[49m\u001b[43mcategory_path\u001b[49m\u001b[43m)\u001b[49m\n\u001b[1;32m     25\u001b[0m     random\u001b[38;5;241m.\u001b[39mshuffle(images)  \u001b[38;5;66;03m# Shuffle the images to randomize the split\u001b[39;00m\n\u001b[1;32m     27\u001b[0m     \u001b[38;5;66;03m# Calculate the split index\u001b[39;00m\n",
      "\u001b[0;31mFileNotFoundError\u001b[0m: [Errno 2] No such file or directory: '/Users/sibikarthik/**R2S PROJECT/Data 4 (CT - Kidney)/Cyst'"
     ]
    }
   ],
   "source": [
    "import os\n",
    "import shutil\n",
    "import random\n",
    "\n",
    "original_dir = '/Users/sibikarthik/**R2S PROJECT/Data 4 (CT - Kidney)'\n",
    "target_dir = '/Users/sibikarthik/**R2S PROJECT/Data 4 (CT - Kidney) (Update)'\n",
    "\n",
    "train_dir = os.path.join(target_dir, 'train')\n",
    "test_dir = os.path.join(target_dir, 'test')\n",
    "\n",
    "os.makedirs(train_dir, exist_ok=True)\n",
    "os.makedirs(test_dir, exist_ok=True)\n",
    "\n",
    "split_ratio = 0.8\n",
    "\n",
    "categories = ['Cyst', 'Normal', 'Stone', 'Tumor']\n",
    "\n",
    "for category in categories:\n",
    "    category_path = os.path.join(original_dir, category)\n",
    "    images = os.listdir(category_path)\n",
    "    random.shuffle(images)\n",
    "\n",
    "    split_index = int(len(images) * split_ratio)\n",
    "\n",
    "    train_images = images[:split_index]\n",
    "    test_images = images[split_index:]\n",
    "\n",
    "    train_category_path = os.path.join(train_dir, category)\n",
    "    test_category_path = os.path.join(test_dir, category)\n",
    "    \n",
    "    os.makedirs(train_category_path, exist_ok=True)\n",
    "    os.makedirs(test_category_path, exist_ok=True)\n",
    "\n",
    "    for img in train_images:\n",
    "        shutil.copy(os.path.join(category_path, img), os.path.join(train_category_path, img))\n",
    "    \n",
    "    for img in test_images:\n",
    "        shutil.copy(os.path.join(category_path, img), os.path.join(test_category_path, img))\n",
    "\n",
    "print(\"Data has been successfully split into train and test sets.\")"
   ]
  },
  {
   "cell_type": "markdown",
   "id": "1b27f6c6-814e-4937-9474-6dd601d033c6",
   "metadata": {},
   "source": [
    "##### VGG16 Model"
   ]
  },
  {
   "cell_type": "code",
   "execution_count": 80,
   "id": "e01e18e5-826c-4968-bbdb-81215897e6ba",
   "metadata": {},
   "outputs": [],
   "source": [
    "import os\n",
    "import numpy as np\n",
    "from keras.preprocessing.image import ImageDataGenerator\n",
    "from keras.applications import VGG16\n",
    "from keras.models import Sequential, load_model\n",
    "from keras.layers import Dense, Flatten, Dropout\n",
    "from keras.callbacks import EarlyStopping\n",
    "from keras.preprocessing import image"
   ]
  },
  {
   "cell_type": "code",
   "execution_count": 81,
   "id": "4a01dd86-abbd-4074-868e-08b546073e4f",
   "metadata": {},
   "outputs": [],
   "source": [
    "train_dir = '/Users/sibikarthik/**R2S PROJECT/Data 4 (CT - Kidney)/train'\n",
    "test_dir = '/Users/sibikarthik/**R2S PROJECT/Data 4 (CT - Kidney)/test'"
   ]
  },
  {
   "cell_type": "code",
   "execution_count": 82,
   "id": "85395faf-1a23-4b8d-b330-f417a499140f",
   "metadata": {},
   "outputs": [],
   "source": [
    "image_size = (224, 224)\n",
    "batch_size = 32"
   ]
  },
  {
   "cell_type": "code",
   "execution_count": 83,
   "id": "cbec5a80-c2c6-4bd3-bd80-df1497a054a7",
   "metadata": {},
   "outputs": [],
   "source": [
    "train_datagen = ImageDataGenerator(\n",
    "    rescale=1.0/255,\n",
    "    rotation_range=20,\n",
    "    width_shift_range=0.2,\n",
    "    height_shift_range=0.2,\n",
    "    shear_range=0.15,\n",
    "    zoom_range=0.2,\n",
    "    horizontal_flip=True,\n",
    "    fill_mode='nearest'\n",
    ")\n",
    "\n",
    "'''# Generate and save augmented images to a specified directory\n",
    "train_generator = train_datagen.flow_from_directory(\n",
    "    '/Users/sibikarthik/**R2S PROJECT/Data 4 (CT-Kidney)/train',\n",
    "    save_to_dir='/Users/sibikarthik/**R2S PROJECT/Data 4 (CT - Kidney)/train_augmented',\n",
    "    save_prefix='aug',\n",
    "    save_format='jpeg'\n",
    ")'''\n",
    "\n",
    "test_datagen = ImageDataGenerator(rescale=1.0/255)"
   ]
  },
  {
   "cell_type": "code",
   "execution_count": 84,
   "id": "43c5d498-9376-4fba-90d1-d8a5acf96cab",
   "metadata": {},
   "outputs": [
    {
     "name": "stdout",
     "output_type": "stream",
     "text": [
      "Found 9404 images belonging to 4 classes.\n",
      "Found 2352 images belonging to 4 classes.\n"
     ]
    }
   ],
   "source": [
    "train_generator = train_datagen.flow_from_directory(\n",
    "    train_dir,\n",
    "    target_size=image_size,\n",
    "    batch_size=batch_size,\n",
    "    class_mode='categorical'\n",
    ")\n",
    "\n",
    "test_generator = test_datagen.flow_from_directory(\n",
    "    test_dir,\n",
    "    target_size=image_size,\n",
    "    batch_size=batch_size,\n",
    "    class_mode='categorical'\n",
    ")"
   ]
  },
  {
   "cell_type": "code",
   "execution_count": 85,
   "id": "47a12d4c-6a9c-43d6-ad70-8003adb1aae8",
   "metadata": {},
   "outputs": [
    {
     "name": "stdout",
     "output_type": "stream",
     "text": [
      "Downloading data from https://storage.googleapis.com/tensorflow/keras-applications/vgg16/vgg16_weights_tf_dim_ordering_tf_kernels_notop.h5\n",
      "58889256/58889256 [==============================] - 6s 0us/step\n"
     ]
    }
   ],
   "source": [
    "base_model = VGG16(weights='imagenet', include_top=False, input_shape=(224, 224, 3))\n",
    "base_model.trainable = False"
   ]
  },
  {
   "cell_type": "code",
   "execution_count": 86,
   "id": "b89d36fd-db9a-43e6-8dff-7014a5c2c6b1",
   "metadata": {},
   "outputs": [],
   "source": [
    "# Model fitting on the train data and evaluating performance with test data for validation\n",
    "model = Sequential([\n",
    "    base_model,\n",
    "    Flatten(),\n",
    "    Dense(256, activation='relu'),\n",
    "    Dropout(0.5),\n",
    "    Dense(train_generator.num_classes, activation='softmax')\n",
    "])"
   ]
  },
  {
   "cell_type": "code",
   "execution_count": 87,
   "id": "5c142084-f9bc-494a-a0a8-98e51f3a7168",
   "metadata": {},
   "outputs": [],
   "source": [
    "model.compile(optimizer='adam', loss='categorical_crossentropy', metrics=['accuracy'])"
   ]
  },
  {
   "cell_type": "code",
   "execution_count": 88,
   "id": "48856ced-edbe-4e5f-b6c9-6cd7e17de681",
   "metadata": {},
   "outputs": [],
   "source": [
    "early_stopping = EarlyStopping(monitor='val_loss', patience=5, restore_best_weights=True)"
   ]
  },
  {
   "cell_type": "code",
   "execution_count": 89,
   "id": "f54af688-ab5f-4e71-b8a9-43f82d81b9a0",
   "metadata": {},
   "outputs": [
    {
     "name": "stdout",
     "output_type": "stream",
     "text": [
      "Epoch 1/10\n"
     ]
    },
    {
     "name": "stderr",
     "output_type": "stream",
     "text": [
      "2024-11-19 18:46:37.937180: I tensorflow/core/common_runtime/executor.cc:1197] [/device:CPU:0] (DEBUG INFO) Executor start aborting (this does not indicate an error and you can ignore this message): INVALID_ARGUMENT: You must feed a value for placeholder tensor 'Placeholder/_0' with dtype int32\n",
      "\t [[{{node Placeholder/_0}}]]\n"
     ]
    },
    {
     "name": "stdout",
     "output_type": "stream",
     "text": [
      "294/294 [==============================] - ETA: 0s - loss: 1.3372 - accuracy: 0.4850"
     ]
    },
    {
     "name": "stderr",
     "output_type": "stream",
     "text": [
      "2024-11-19 19:27:53.788101: I tensorflow/core/common_runtime/executor.cc:1197] [/device:CPU:0] (DEBUG INFO) Executor start aborting (this does not indicate an error and you can ignore this message): INVALID_ARGUMENT: You must feed a value for placeholder tensor 'Placeholder/_0' with dtype int32\n",
      "\t [[{{node Placeholder/_0}}]]\n"
     ]
    },
    {
     "name": "stdout",
     "output_type": "stream",
     "text": [
      "294/294 [==============================] - 4404s 15s/step - loss: 1.3372 - accuracy: 0.4850 - val_loss: 0.7714 - val_accuracy: 0.6858\n",
      "Epoch 2/10\n",
      "294/294 [==============================] - 3320s 11s/step - loss: 0.9468 - accuracy: 0.5755 - val_loss: 0.6376 - val_accuracy: 0.7287\n",
      "Epoch 3/10\n",
      "294/294 [==============================] - 4320s 15s/step - loss: 0.8808 - accuracy: 0.6018 - val_loss: 0.6711 - val_accuracy: 0.7338\n",
      "Epoch 4/10\n",
      "294/294 [==============================] - 4982s 17s/step - loss: 0.8447 - accuracy: 0.6108 - val_loss: 0.5011 - val_accuracy: 0.7938\n",
      "Epoch 5/10\n",
      "294/294 [==============================] - 5774s 20s/step - loss: 0.8039 - accuracy: 0.6387 - val_loss: 0.5149 - val_accuracy: 0.7870\n",
      "Epoch 6/10\n",
      "294/294 [==============================] - 3171s 11s/step - loss: 0.7753 - accuracy: 0.6505 - val_loss: 0.4943 - val_accuracy: 0.7976\n",
      "Epoch 7/10\n",
      "294/294 [==============================] - 3659s 12s/step - loss: 0.7451 - accuracy: 0.6652 - val_loss: 0.3840 - val_accuracy: 0.8287\n",
      "Epoch 8/10\n",
      "294/294 [==============================] - 3126s 11s/step - loss: 0.7399 - accuracy: 0.6633 - val_loss: 0.4521 - val_accuracy: 0.7925\n",
      "Epoch 9/10\n",
      "294/294 [==============================] - 3315s 11s/step - loss: 0.6952 - accuracy: 0.6856 - val_loss: 0.3926 - val_accuracy: 0.8499\n",
      "Epoch 10/10\n",
      "294/294 [==============================] - 3236s 11s/step - loss: 0.6865 - accuracy: 0.6848 - val_loss: 0.3650 - val_accuracy: 0.8380\n"
     ]
    }
   ],
   "source": [
    "# Model fitting on the train data and evaluating performance with test data for validation\n",
    "history = model.fit(\n",
    "    train_generator,\n",
    "    validation_data=test_generator,\n",
    "    epochs=10,\n",
    "    callbacks=[early_stopping]\n",
    ")"
   ]
  },
  {
   "cell_type": "code",
   "execution_count": 90,
   "id": "6feb7a7b-0e2b-46d9-9e4e-49f753f84095",
   "metadata": {},
   "outputs": [
    {
     "name": "stderr",
     "output_type": "stream",
     "text": [
      "2024-11-20 05:53:01.582252: I tensorflow/core/common_runtime/executor.cc:1197] [/device:CPU:0] (DEBUG INFO) Executor start aborting (this does not indicate an error and you can ignore this message): INVALID_ARGUMENT: You must feed a value for placeholder tensor 'Placeholder/_0' with dtype int32\n",
      "\t [[{{node Placeholder/_0}}]]\n"
     ]
    },
    {
     "name": "stdout",
     "output_type": "stream",
     "text": [
      "74/74 [==============================] - 587s 8s/step - loss: 0.3650 - accuracy: 0.8380\n",
      "Test Loss: 0.36499547958374023\n",
      "Test Accuracy: 0.8380101919174194\n"
     ]
    }
   ],
   "source": [
    "loss, accuracy = model.evaluate(test_generator)\n",
    "print(f\"Test Loss: {loss}\")\n",
    "print(f\"Test Accuracy: {accuracy}\")"
   ]
  },
  {
   "cell_type": "code",
   "execution_count": 91,
   "id": "0b48f31f-bdca-4cb1-83cb-5fa569f7f665",
   "metadata": {},
   "outputs": [],
   "source": [
    "model_path = '/Users/sibikarthik/**R2S PROJECT/Models/ct_kidney_vgg_4.h5'\n",
    "model.save(model_path)"
   ]
  },
  {
   "cell_type": "code",
   "execution_count": 92,
   "id": "30868afa-e842-4b88-84fc-fac06b76e8fd",
   "metadata": {},
   "outputs": [],
   "source": [
    "def predict_image(image_path):\n",
    "    # Loading trained model\n",
    "    model = load_model(model_path)\n",
    "    \n",
    "    # Loading and preprocessing of the image\n",
    "    img = image.load_img(image_path, target_size=(224, 224))\n",
    "    img_array = image.img_to_array(img) / 255.0  # Normalize\n",
    "    img_array = np.expand_dims(img_array, axis=0)  # Add batch dimension\n",
    "\n",
    "    # Prediction of the class\n",
    "    predictions = model.predict(img_array)\n",
    "    predicted_class_index = np.argmax(predictions)\n",
    "    class_labels = list(train_generator.class_indices.keys())\n",
    "    predicted_class = class_labels[predicted_class_index]\n",
    "    \n",
    "    return predicted_class"
   ]
  },
  {
   "cell_type": "code",
   "execution_count": null,
   "id": "0ddb391b-46b7-453b-8c8b-55a7fbebd7e8",
   "metadata": {},
   "outputs": [],
   "source": [
    "# Example usage: Upload an image and check the prediction\n",
    "model = load_model('/Users/sibikarthik/**R2S PROJECT/Models/ct_kidney_vgg_4.h5')\n",
    "image_path = '/Users/sibikarthik/**R2S PROJECT/Data 4 (CT - Kidney)/train/Tumor/kidney-tumor-0009.jpg'\n",
    "result = predict_image(image_path)\n",
    "print(f\"The uploaded image is predicted to be: {result}\")"
   ]
  },
  {
   "cell_type": "markdown",
   "id": "ec16a388-f173-4bf2-ad5d-fae4fc24f181",
   "metadata": {},
   "source": [
    "###"
   ]
  },
  {
   "cell_type": "markdown",
   "id": "f3ba7933-f8bb-4a6e-9aea-c17ed7ded213",
   "metadata": {},
   "source": [
    "### 5) CT - Chest Cancer (Adenocarcinoma | Large Cell Carcinoma | Normal | Squamous Cell Carcinoma) [VGG]"
   ]
  },
  {
   "cell_type": "code",
   "execution_count": 93,
   "id": "a5e45f86-6a33-471a-a511-a60639ffe538",
   "metadata": {},
   "outputs": [],
   "source": [
    "dataset_path_5 = \"/Users/sibikarthik/**R2S PROJECT/Data 5 (CT - Chest Cancer)\"\n",
    "train_path_5 = \"/Users/sibikarthik/**R2S PROJECT/Data 5 (CT - Chest Cancer)/train\"\n",
    "test_path_5 = \"/Users/sibikarthik/**R2S PROJECT/Data 5 (CT - Chest Cancer)/test\""
   ]
  },
  {
   "cell_type": "code",
   "execution_count": 94,
   "id": "2e4685be-bda0-49f0-83e8-874a4bd43bce",
   "metadata": {},
   "outputs": [
    {
     "data": {
      "image/png": "[encoded data removed]",
      "text/plain": [
       "<Figure size 500x500 with 1 Axes>"
      ]
     },
     "metadata": {},
     "output_type": "display_data"
    },
    {
     "name": "stdout",
     "output_type": "stream",
     "text": [
      "Number of Adenocarcinoma images in train is 788\n",
      "Number of Large Cell Carcinoma images in train is 469\n",
      "Number of Normal images in train is 619\n",
      "Number of Squamous Cell Carcinoma images in train is 629\n"
     ]
    },
    {
     "data": {
      "image/png": "[encoded data removed]",
      "text/plain": [
       "<Figure size 500x500 with 1 Axes>"
      ]
     },
     "metadata": {},
     "output_type": "display_data"
    },
    {
     "name": "stdout",
     "output_type": "stream",
     "text": [
      "Number of Adenocarcinoma images in test is 496\n",
      "Number of Large Cell Carcinoma images in test is 218\n",
      "Number of Normal images in test is 222\n",
      "Number of Squamous Cell Carcinoma images in test is 378\n"
     ]
    }
   ],
   "source": [
    "train_adeno = [x for x in os.listdir('/Users/sibikarthik/**R2S PROJECT/Data 5 (CT - Chest Cancer)/train/Adenocarcinoma') if not x.startswith('.')]\n",
    "train_large_cell = [x for x in os.listdir('/Users/sibikarthik/**R2S PROJECT/Data 5 (CT - Chest Cancer)/train/Large Cell Carcinoma') if not x.startswith('.')]\n",
    "train_normal = [x for x in os.listdir('/Users/sibikarthik/**R2S PROJECT/Data 5 (CT - Chest Cancer)/train/Normal') if not x.startswith('.')]\n",
    "train_squamous_cell = [x for x in os.listdir('/Users/sibikarthik/**R2S PROJECT/Data 5 (CT - Chest Cancer)/train/Squamous Cell Carcinoma') if not x.startswith('.')]\n",
    "test_adeno = [x for x in os.listdir('/Users/sibikarthik/**R2S PROJECT/Data 5 (CT - Chest Cancer)/test/Adenocarcinoma') if not x.startswith('.')]\n",
    "test_large_cell = [x for x in os.listdir('/Users/sibikarthik/**R2S PROJECT/Data 5 (CT - Chest Cancer)/test/Large Cell Carcinoma') if not x.startswith('.')]\n",
    "test_normal = [x for x in os.listdir('/Users/sibikarthik/**R2S PROJECT/Data 5 (CT - Chest Cancer)/test/Normal') if not x.startswith('.')]\n",
    "test_squamous_cell = [x for x in os.listdir('/Users/sibikarthik/**R2S PROJECT/Data 5 (CT - Chest Cancer)/test/Squamous Cell Carcinoma') if not x.startswith('.')]\n",
    "\n",
    "classes = ['Adenocarcinoma','Large Cell Carcinoma','Normal','Squamous Cell Carcinoma']\n",
    "counts = [len(train_adeno),len(train_large_cell),len(train_normal),len(train_squamous_cell)]\n",
    "plot_bar(classes,counts,'Train data')\n",
    "for i in range(len(classes)):\n",
    "    print('Number of '+classes[i]+' images in train is '+str(counts[i]))\n",
    "\n",
    "classes = ['Adenocarcinoma','Large Cell Carcinoma','Normal','Squamous Cell Carcinoma']\n",
    "counts = [len(test_adeno),len(test_large_cell),len(test_normal),len(test_squamous_cell)]\n",
    "plot_bar(classes,counts,'Test data')\n",
    "for i in range(len(classes)):\n",
    "    print('Number of '+classes[i]+' images in test is '+str(counts[i]))"
   ]
  },
  {
   "cell_type": "code",
   "execution_count": 96,
   "id": "ab0729fa-40cf-4b35-bc87-24658a50bbaa",
   "metadata": {},
   "outputs": [
    {
     "name": "stdout",
     "output_type": "stream",
     "text": [
      "DATASET SUMMARY\n",
      "---------------------------------------\n",
      "there are 2 directories and 0 images in /Users/sibikarthik/**R2S PROJECT/Data 5 (CT - Chest Cancer)\n",
      "there are 4 directories and 0 images in /Users/sibikarthik/**R2S PROJECT/Data 5 (CT - Chest Cancer)/test\n",
      "there are 0 directories and 496 images in /Users/sibikarthik/**R2S PROJECT/Data 5 (CT - Chest Cancer)/test/Adenocarcinoma\n",
      "there are 0 directories and 218 images in /Users/sibikarthik/**R2S PROJECT/Data 5 (CT - Chest Cancer)/test/Large Cell Carcinoma\n",
      "there are 0 directories and 378 images in /Users/sibikarthik/**R2S PROJECT/Data 5 (CT - Chest Cancer)/test/Squamous Cell Carcinoma\n",
      "there are 0 directories and 222 images in /Users/sibikarthik/**R2S PROJECT/Data 5 (CT - Chest Cancer)/test/Normal\n",
      "there are 4 directories and 0 images in /Users/sibikarthik/**R2S PROJECT/Data 5 (CT - Chest Cancer)/train\n",
      "there are 0 directories and 788 images in /Users/sibikarthik/**R2S PROJECT/Data 5 (CT - Chest Cancer)/train/Adenocarcinoma\n",
      "there are 0 directories and 469 images in /Users/sibikarthik/**R2S PROJECT/Data 5 (CT - Chest Cancer)/train/Large Cell Carcinoma\n",
      "there are 0 directories and 629 images in /Users/sibikarthik/**R2S PROJECT/Data 5 (CT - Chest Cancer)/train/Squamous Cell Carcinoma\n",
      "there are 0 directories and 619 images in /Users/sibikarthik/**R2S PROJECT/Data 5 (CT - Chest Cancer)/train/Normal\n",
      "\n",
      "---------------------------------------\n"
     ]
    }
   ],
   "source": [
    "#Generate a summary of dataset:\n",
    "\n",
    "print(\"DATASET SUMMARY\")\n",
    "print(\"---------------------------------------\")\n",
    "\n",
    "for dirpath, dirnames, filenames in os.walk(dataset_path_5):\n",
    "    dirnames[:] = [d for d in dirnames if not d.startswith('.')]\n",
    "    filenames = [f for f in filenames if not f.startswith('.')]\n",
    "    print(f'there are {len(dirnames)} directories and {len(filenames)} images in {dirpath}')\n",
    "print('\\n---------------------------------------')"
   ]
  },
  {
   "cell_type": "markdown",
   "id": "9fac66c4-24b0-43c1-b7a7-4c13ed1cd55e",
   "metadata": {},
   "source": [
    "##### VGG19 Model"
   ]
  },
  {
   "cell_type": "code",
   "execution_count": 97,
   "id": "eb144182-cacd-4c14-86a7-7325f270b1f6",
   "metadata": {},
   "outputs": [],
   "source": [
    "import os\n",
    "import numpy as np\n",
    "from keras.preprocessing.image import ImageDataGenerator\n",
    "from keras.applications import VGG19\n",
    "from keras.models import Sequential, load_model\n",
    "from keras.layers import Dense, Flatten, Dropout\n",
    "from keras.callbacks import EarlyStopping\n",
    "from keras.preprocessing import image"
   ]
  },
  {
   "cell_type": "code",
   "execution_count": 98,
   "id": "9d35c03a-c213-4edf-9924-7131738af8b3",
   "metadata": {},
   "outputs": [],
   "source": [
    "train_dir = '/Users/sibikarthik/**R2S PROJECT/Data 5 (CT - Chest Cancer)/train'\n",
    "test_dir = '/Users/sibikarthik/**R2S PROJECT/Data 5 (CT - Chest Cancer)/test'"
   ]
  },
  {
   "cell_type": "code",
   "execution_count": 99,
   "id": "9f871044-b251-4faa-b11e-5f6ad46f5004",
   "metadata": {},
   "outputs": [],
   "source": [
    "image_size = (224, 224)\n",
    "batch_size = 32"
   ]
  },
  {
   "cell_type": "code",
   "execution_count": 100,
   "id": "10782bc0-ffaf-401b-9dfb-3a7ceef7951e",
   "metadata": {},
   "outputs": [],
   "source": [
    "train_datagen = ImageDataGenerator(\n",
    "    rescale=1.0/255,\n",
    "    rotation_range=20,\n",
    "    width_shift_range=0.2,\n",
    "    height_shift_range=0.2,\n",
    "    shear_range=0.15,\n",
    "    zoom_range=0.2,\n",
    "    horizontal_flip=True,\n",
    "    fill_mode='nearest'\n",
    ")\n",
    "\n",
    "'''# Generate and save augmented images to a specified directory\n",
    "train_generator = train_datagen.flow_from_directory(\n",
    "    '/Users/sibikarthik/**R2S PROJECT/Data 5 (CT - Chest Cancer)/train',\n",
    "    save_to_dir='/Users/sibikarthik/**R2S PROJECT/Data 5 (CT - Chest Cancer)/train_augmented',\n",
    "    save_prefix='aug',\n",
    "    save_format='jpeg'\n",
    ")'''\n",
    "\n",
    "test_datagen = ImageDataGenerator(rescale=1.0/255)"
   ]
  },
  {
   "cell_type": "code",
   "execution_count": 101,
   "id": "bf80a540-5774-4e0d-8c86-73c31275bbd6",
   "metadata": {},
   "outputs": [
    {
     "name": "stdout",
     "output_type": "stream",
     "text": [
      "Found 2505 images belonging to 5 classes.\n",
      "Found 1313 images belonging to 5 classes.\n"
     ]
    }
   ],
   "source": [
    "train_generator = train_datagen.flow_from_directory(\n",
    "    train_dir,\n",
    "    target_size=image_size,\n",
    "    batch_size=batch_size,\n",
    "    class_mode='categorical'\n",
    ")\n",
    "\n",
    "test_generator = test_datagen.flow_from_directory(\n",
    "    test_dir,\n",
    "    target_size=image_size,\n",
    "    batch_size=batch_size,\n",
    "    class_mode='categorical'\n",
    ")"
   ]
  },
  {
   "cell_type": "code",
   "execution_count": 102,
   "id": "742fc77a-c352-455c-87a6-5fbb210c8f2f",
   "metadata": {},
   "outputs": [
    {
     "name": "stdout",
     "output_type": "stream",
     "text": [
      "Downloading data from https://storage.googleapis.com/tensorflow/keras-applications/vgg19/vgg19_weights_tf_dim_ordering_tf_kernels_notop.h5\n",
      "80134624/80134624 [==============================] - 6s 0us/step\n"
     ]
    }
   ],
   "source": [
    "base_model = VGG19(weights='imagenet', include_top=False, input_shape=(224, 224, 3))\n",
    "base_model.trainable = False"
   ]
  },
  {
   "cell_type": "code",
   "execution_count": 103,
   "id": "ede5c06f-98c8-44c4-9d3e-d4b2f4c5483e",
   "metadata": {},
   "outputs": [],
   "source": [
    "# Model fitting on the train data and evaluating performance with test data for validation\n",
    "model = Sequential([\n",
    "    base_model,\n",
    "    Flatten(),\n",
    "    Dense(256, activation='relu'),\n",
    "    Dropout(0.5),\n",
    "    Dense(train_generator.num_classes, activation='softmax')\n",
    "])"
   ]
  },
  {
   "cell_type": "code",
   "execution_count": 104,
   "id": "5db92d72-b4a7-4bdc-8b18-721812817eea",
   "metadata": {},
   "outputs": [],
   "source": [
    "model.compile(optimizer='adam', loss='categorical_crossentropy', metrics=['accuracy'])"
   ]
  },
  {
   "cell_type": "code",
   "execution_count": 105,
   "id": "fa5c9b33-865c-470e-ac01-7371d022b198",
   "metadata": {},
   "outputs": [],
   "source": [
    "early_stopping = EarlyStopping(monitor='val_loss', patience=5, restore_best_weights=True)"
   ]
  },
  {
   "cell_type": "code",
   "execution_count": 106,
   "id": "49bb9c25-25db-4f0c-a56d-7a433c650416",
   "metadata": {
    "scrolled": true
   },
   "outputs": [
    {
     "name": "stdout",
     "output_type": "stream",
     "text": [
      "Epoch 1/10\n"
     ]
    },
    {
     "name": "stderr",
     "output_type": "stream",
     "text": [
      "2024-11-20 06:12:06.735298: I tensorflow/core/common_runtime/executor.cc:1197] [/device:CPU:0] (DEBUG INFO) Executor start aborting (this does not indicate an error and you can ignore this message): INVALID_ARGUMENT: You must feed a value for placeholder tensor 'Placeholder/_0' with dtype int32\n",
      "\t [[{{node Placeholder/_0}}]]\n"
     ]
    },
    {
     "name": "stdout",
     "output_type": "stream",
     "text": [
      "79/79 [==============================] - ETA: 0s - loss: 2.1241 - accuracy: 0.4104 "
     ]
    },
    {
     "name": "stderr",
     "output_type": "stream",
     "text": [
      "2024-11-20 06:26:20.256035: I tensorflow/core/common_runtime/executor.cc:1197] [/device:CPU:0] (DEBUG INFO) Executor start aborting (this does not indicate an error and you can ignore this message): INVALID_ARGUMENT: You must feed a value for placeholder tensor 'Placeholder/_0' with dtype int32\n",
      "\t [[{{node Placeholder/_0}}]]\n"
     ]
    },
    {
     "name": "stdout",
     "output_type": "stream",
     "text": [
      "79/79 [==============================] - 1291s 16s/step - loss: 2.1241 - accuracy: 0.4104 - val_loss: 1.0799 - val_accuracy: 0.5194\n",
      "Epoch 2/10\n",
      "79/79 [==============================] - 1393s 18s/step - loss: 1.0564 - accuracy: 0.4834 - val_loss: 1.0417 - val_accuracy: 0.5011\n",
      "Epoch 3/10\n",
      "79/79 [==============================] - 1333s 17s/step - loss: 0.9791 - accuracy: 0.5134 - val_loss: 0.9791 - val_accuracy: 0.5027\n",
      "Epoch 4/10\n",
      "79/79 [==============================] - 1272s 16s/step - loss: 0.9587 - accuracy: 0.5058 - val_loss: 0.9924 - val_accuracy: 0.5072\n",
      "Epoch 5/10\n",
      "79/79 [==============================] - 1267s 16s/step - loss: 0.9562 - accuracy: 0.5202 - val_loss: 0.9959 - val_accuracy: 0.5141\n",
      "Epoch 6/10\n",
      "79/79 [==============================] - 1300s 17s/step - loss: 0.9500 - accuracy: 0.5377 - val_loss: 1.0007 - val_accuracy: 0.5057\n",
      "Epoch 7/10\n",
      "79/79 [==============================] - 7558s 97s/step - loss: 0.9508 - accuracy: 0.5373 - val_loss: 1.0203 - val_accuracy: 0.5027\n",
      "Epoch 8/10\n",
      " 4/79 [>.............................] - ETA: 14:05 - loss: 0.9747 - accuracy: 0.5000"
     ]
    },
    {
     "ename": "KeyboardInterrupt",
     "evalue": "",
     "output_type": "error",
     "traceback": [
      "\u001b[0;31m---------------------------------------------------------------------------\u001b[0m",
      "\u001b[0;31mKeyboardInterrupt\u001b[0m                         Traceback (most recent call last)",
      "Cell \u001b[0;32mIn[106], line 2\u001b[0m\n\u001b[1;32m      1\u001b[0m \u001b[38;5;66;03m# Model fitting on the train data and evaluating performance with test data for validation\u001b[39;00m\n\u001b[0;32m----> 2\u001b[0m history \u001b[38;5;241m=\u001b[39m \u001b[43mmodel\u001b[49m\u001b[38;5;241;43m.\u001b[39;49m\u001b[43mfit\u001b[49m\u001b[43m(\u001b[49m\n\u001b[1;32m      3\u001b[0m \u001b[43m    \u001b[49m\u001b[43mtrain_generator\u001b[49m\u001b[43m,\u001b[49m\n\u001b[1;32m      4\u001b[0m \u001b[43m    \u001b[49m\u001b[43mvalidation_data\u001b[49m\u001b[38;5;241;43m=\u001b[39;49m\u001b[43mtest_generator\u001b[49m\u001b[43m,\u001b[49m\n\u001b[1;32m      5\u001b[0m \u001b[43m    \u001b[49m\u001b[43mepochs\u001b[49m\u001b[38;5;241;43m=\u001b[39;49m\u001b[38;5;241;43m10\u001b[39;49m\u001b[43m,\u001b[49m\n\u001b[1;32m      6\u001b[0m \u001b[43m    \u001b[49m\u001b[43mcallbacks\u001b[49m\u001b[38;5;241;43m=\u001b[39;49m\u001b[43m[\u001b[49m\u001b[43mearly_stopping\u001b[49m\u001b[43m]\u001b[49m\n\u001b[1;32m      7\u001b[0m \u001b[43m)\u001b[49m\n",
      "File \u001b[0;32m~/env_tf/lib/python3.8/site-packages/keras/utils/traceback_utils.py:65\u001b[0m, in \u001b[0;36mfilter_traceback.<locals>.error_handler\u001b[0;34m(*args, **kwargs)\u001b[0m\n\u001b[1;32m     63\u001b[0m filtered_tb \u001b[38;5;241m=\u001b[39m \u001b[38;5;28;01mNone\u001b[39;00m\n\u001b[1;32m     64\u001b[0m \u001b[38;5;28;01mtry\u001b[39;00m:\n\u001b[0;32m---> 65\u001b[0m     \u001b[38;5;28;01mreturn\u001b[39;00m \u001b[43mfn\u001b[49m\u001b[43m(\u001b[49m\u001b[38;5;241;43m*\u001b[39;49m\u001b[43margs\u001b[49m\u001b[43m,\u001b[49m\u001b[43m \u001b[49m\u001b[38;5;241;43m*\u001b[39;49m\u001b[38;5;241;43m*\u001b[39;49m\u001b[43mkwargs\u001b[49m\u001b[43m)\u001b[49m\n\u001b[1;32m     66\u001b[0m \u001b[38;5;28;01mexcept\u001b[39;00m \u001b[38;5;167;01mException\u001b[39;00m \u001b[38;5;28;01mas\u001b[39;00m e:\n\u001b[1;32m     67\u001b[0m     filtered_tb \u001b[38;5;241m=\u001b[39m _process_traceback_frames(e\u001b[38;5;241m.\u001b[39m__traceback__)\n",
      "File \u001b[0;32m~/env_tf/lib/python3.8/site-packages/keras/engine/training.py:1685\u001b[0m, in \u001b[0;36mModel.fit\u001b[0;34m(self, x, y, batch_size, epochs, verbose, callbacks, validation_split, validation_data, shuffle, class_weight, sample_weight, initial_epoch, steps_per_epoch, validation_steps, validation_batch_size, validation_freq, max_queue_size, workers, use_multiprocessing)\u001b[0m\n\u001b[1;32m   1677\u001b[0m \u001b[38;5;28;01mwith\u001b[39;00m tf\u001b[38;5;241m.\u001b[39mprofiler\u001b[38;5;241m.\u001b[39mexperimental\u001b[38;5;241m.\u001b[39mTrace(\n\u001b[1;32m   1678\u001b[0m     \u001b[38;5;124m\"\u001b[39m\u001b[38;5;124mtrain\u001b[39m\u001b[38;5;124m\"\u001b[39m,\n\u001b[1;32m   1679\u001b[0m     epoch_num\u001b[38;5;241m=\u001b[39mepoch,\n\u001b[0;32m   (...)\u001b[0m\n\u001b[1;32m   1682\u001b[0m     _r\u001b[38;5;241m=\u001b[39m\u001b[38;5;241m1\u001b[39m,\n\u001b[1;32m   1683\u001b[0m ):\n\u001b[1;32m   1684\u001b[0m     callbacks\u001b[38;5;241m.\u001b[39mon_train_batch_begin(step)\n\u001b[0;32m-> 1685\u001b[0m     tmp_logs \u001b[38;5;241m=\u001b[39m \u001b[38;5;28;43mself\u001b[39;49m\u001b[38;5;241;43m.\u001b[39;49m\u001b[43mtrain_function\u001b[49m\u001b[43m(\u001b[49m\u001b[43miterator\u001b[49m\u001b[43m)\u001b[49m\n\u001b[1;32m   1686\u001b[0m     \u001b[38;5;28;01mif\u001b[39;00m data_handler\u001b[38;5;241m.\u001b[39mshould_sync:\n\u001b[1;32m   1687\u001b[0m         context\u001b[38;5;241m.\u001b[39masync_wait()\n",
      "File \u001b[0;32m~/env_tf/lib/python3.8/site-packages/tensorflow/python/util/traceback_utils.py:150\u001b[0m, in \u001b[0;36mfilter_traceback.<locals>.error_handler\u001b[0;34m(*args, **kwargs)\u001b[0m\n\u001b[1;32m    148\u001b[0m filtered_tb \u001b[38;5;241m=\u001b[39m \u001b[38;5;28;01mNone\u001b[39;00m\n\u001b[1;32m    149\u001b[0m \u001b[38;5;28;01mtry\u001b[39;00m:\n\u001b[0;32m--> 150\u001b[0m   \u001b[38;5;28;01mreturn\u001b[39;00m \u001b[43mfn\u001b[49m\u001b[43m(\u001b[49m\u001b[38;5;241;43m*\u001b[39;49m\u001b[43margs\u001b[49m\u001b[43m,\u001b[49m\u001b[43m \u001b[49m\u001b[38;5;241;43m*\u001b[39;49m\u001b[38;5;241;43m*\u001b[39;49m\u001b[43mkwargs\u001b[49m\u001b[43m)\u001b[49m\n\u001b[1;32m    151\u001b[0m \u001b[38;5;28;01mexcept\u001b[39;00m \u001b[38;5;167;01mException\u001b[39;00m \u001b[38;5;28;01mas\u001b[39;00m e:\n\u001b[1;32m    152\u001b[0m   filtered_tb \u001b[38;5;241m=\u001b[39m _process_traceback_frames(e\u001b[38;5;241m.\u001b[39m__traceback__)\n",
      "File \u001b[0;32m~/env_tf/lib/python3.8/site-packages/tensorflow/python/eager/polymorphic_function/polymorphic_function.py:894\u001b[0m, in \u001b[0;36mFunction.__call__\u001b[0;34m(self, *args, **kwds)\u001b[0m\n\u001b[1;32m    891\u001b[0m compiler \u001b[38;5;241m=\u001b[39m \u001b[38;5;124m\"\u001b[39m\u001b[38;5;124mxla\u001b[39m\u001b[38;5;124m\"\u001b[39m \u001b[38;5;28;01mif\u001b[39;00m \u001b[38;5;28mself\u001b[39m\u001b[38;5;241m.\u001b[39m_jit_compile \u001b[38;5;28;01melse\u001b[39;00m \u001b[38;5;124m\"\u001b[39m\u001b[38;5;124mnonXla\u001b[39m\u001b[38;5;124m\"\u001b[39m\n\u001b[1;32m    893\u001b[0m \u001b[38;5;28;01mwith\u001b[39;00m OptionalXlaContext(\u001b[38;5;28mself\u001b[39m\u001b[38;5;241m.\u001b[39m_jit_compile):\n\u001b[0;32m--> 894\u001b[0m   result \u001b[38;5;241m=\u001b[39m \u001b[38;5;28;43mself\u001b[39;49m\u001b[38;5;241;43m.\u001b[39;49m\u001b[43m_call\u001b[49m\u001b[43m(\u001b[49m\u001b[38;5;241;43m*\u001b[39;49m\u001b[43margs\u001b[49m\u001b[43m,\u001b[49m\u001b[43m \u001b[49m\u001b[38;5;241;43m*\u001b[39;49m\u001b[38;5;241;43m*\u001b[39;49m\u001b[43mkwds\u001b[49m\u001b[43m)\u001b[49m\n\u001b[1;32m    896\u001b[0m new_tracing_count \u001b[38;5;241m=\u001b[39m \u001b[38;5;28mself\u001b[39m\u001b[38;5;241m.\u001b[39mexperimental_get_tracing_count()\n\u001b[1;32m    897\u001b[0m without_tracing \u001b[38;5;241m=\u001b[39m (tracing_count \u001b[38;5;241m==\u001b[39m new_tracing_count)\n",
      "File \u001b[0;32m~/env_tf/lib/python3.8/site-packages/tensorflow/python/eager/polymorphic_function/polymorphic_function.py:926\u001b[0m, in \u001b[0;36mFunction._call\u001b[0;34m(self, *args, **kwds)\u001b[0m\n\u001b[1;32m    923\u001b[0m   \u001b[38;5;28mself\u001b[39m\u001b[38;5;241m.\u001b[39m_lock\u001b[38;5;241m.\u001b[39mrelease()\n\u001b[1;32m    924\u001b[0m   \u001b[38;5;66;03m# In this case we have created variables on the first call, so we run the\u001b[39;00m\n\u001b[1;32m    925\u001b[0m   \u001b[38;5;66;03m# defunned version which is guaranteed to never create variables.\u001b[39;00m\n\u001b[0;32m--> 926\u001b[0m   \u001b[38;5;28;01mreturn\u001b[39;00m \u001b[38;5;28;43mself\u001b[39;49m\u001b[38;5;241;43m.\u001b[39;49m\u001b[43m_no_variable_creation_fn\u001b[49m\u001b[43m(\u001b[49m\u001b[38;5;241;43m*\u001b[39;49m\u001b[43margs\u001b[49m\u001b[43m,\u001b[49m\u001b[43m \u001b[49m\u001b[38;5;241;43m*\u001b[39;49m\u001b[38;5;241;43m*\u001b[39;49m\u001b[43mkwds\u001b[49m\u001b[43m)\u001b[49m  \u001b[38;5;66;03m# pylint: disable=not-callable\u001b[39;00m\n\u001b[1;32m    927\u001b[0m \u001b[38;5;28;01melif\u001b[39;00m \u001b[38;5;28mself\u001b[39m\u001b[38;5;241m.\u001b[39m_variable_creation_fn \u001b[38;5;129;01mis\u001b[39;00m \u001b[38;5;129;01mnot\u001b[39;00m \u001b[38;5;28;01mNone\u001b[39;00m:\n\u001b[1;32m    928\u001b[0m   \u001b[38;5;66;03m# Release the lock early so that multiple threads can perform the call\u001b[39;00m\n\u001b[1;32m    929\u001b[0m   \u001b[38;5;66;03m# in parallel.\u001b[39;00m\n\u001b[1;32m    930\u001b[0m   \u001b[38;5;28mself\u001b[39m\u001b[38;5;241m.\u001b[39m_lock\u001b[38;5;241m.\u001b[39mrelease()\n",
      "File \u001b[0;32m~/env_tf/lib/python3.8/site-packages/tensorflow/python/eager/polymorphic_function/tracing_compiler.py:143\u001b[0m, in \u001b[0;36mTracingCompiler.__call__\u001b[0;34m(self, *args, **kwargs)\u001b[0m\n\u001b[1;32m    140\u001b[0m \u001b[38;5;28;01mwith\u001b[39;00m \u001b[38;5;28mself\u001b[39m\u001b[38;5;241m.\u001b[39m_lock:\n\u001b[1;32m    141\u001b[0m   (concrete_function,\n\u001b[1;32m    142\u001b[0m    filtered_flat_args) \u001b[38;5;241m=\u001b[39m \u001b[38;5;28mself\u001b[39m\u001b[38;5;241m.\u001b[39m_maybe_define_function(args, kwargs)\n\u001b[0;32m--> 143\u001b[0m \u001b[38;5;28;01mreturn\u001b[39;00m \u001b[43mconcrete_function\u001b[49m\u001b[38;5;241;43m.\u001b[39;49m\u001b[43m_call_flat\u001b[49m\u001b[43m(\u001b[49m\n\u001b[1;32m    144\u001b[0m \u001b[43m    \u001b[49m\u001b[43mfiltered_flat_args\u001b[49m\u001b[43m,\u001b[49m\u001b[43m \u001b[49m\u001b[43mcaptured_inputs\u001b[49m\u001b[38;5;241;43m=\u001b[39;49m\u001b[43mconcrete_function\u001b[49m\u001b[38;5;241;43m.\u001b[39;49m\u001b[43mcaptured_inputs\u001b[49m\u001b[43m)\u001b[49m\n",
      "File \u001b[0;32m~/env_tf/lib/python3.8/site-packages/tensorflow/python/eager/polymorphic_function/monomorphic_function.py:1757\u001b[0m, in \u001b[0;36mConcreteFunction._call_flat\u001b[0;34m(self, args, captured_inputs, cancellation_manager)\u001b[0m\n\u001b[1;32m   1753\u001b[0m possible_gradient_type \u001b[38;5;241m=\u001b[39m gradients_util\u001b[38;5;241m.\u001b[39mPossibleTapeGradientTypes(args)\n\u001b[1;32m   1754\u001b[0m \u001b[38;5;28;01mif\u001b[39;00m (possible_gradient_type \u001b[38;5;241m==\u001b[39m gradients_util\u001b[38;5;241m.\u001b[39mPOSSIBLE_GRADIENT_TYPES_NONE\n\u001b[1;32m   1755\u001b[0m     \u001b[38;5;129;01mand\u001b[39;00m executing_eagerly):\n\u001b[1;32m   1756\u001b[0m   \u001b[38;5;66;03m# No tape is watching; skip to running the function.\u001b[39;00m\n\u001b[0;32m-> 1757\u001b[0m   \u001b[38;5;28;01mreturn\u001b[39;00m \u001b[38;5;28mself\u001b[39m\u001b[38;5;241m.\u001b[39m_build_call_outputs(\u001b[38;5;28;43mself\u001b[39;49m\u001b[38;5;241;43m.\u001b[39;49m\u001b[43m_inference_function\u001b[49m\u001b[38;5;241;43m.\u001b[39;49m\u001b[43mcall\u001b[49m\u001b[43m(\u001b[49m\n\u001b[1;32m   1758\u001b[0m \u001b[43m      \u001b[49m\u001b[43mctx\u001b[49m\u001b[43m,\u001b[49m\u001b[43m \u001b[49m\u001b[43margs\u001b[49m\u001b[43m,\u001b[49m\u001b[43m \u001b[49m\u001b[43mcancellation_manager\u001b[49m\u001b[38;5;241;43m=\u001b[39;49m\u001b[43mcancellation_manager\u001b[49m\u001b[43m)\u001b[49m)\n\u001b[1;32m   1759\u001b[0m forward_backward \u001b[38;5;241m=\u001b[39m \u001b[38;5;28mself\u001b[39m\u001b[38;5;241m.\u001b[39m_select_forward_and_backward_functions(\n\u001b[1;32m   1760\u001b[0m     args,\n\u001b[1;32m   1761\u001b[0m     possible_gradient_type,\n\u001b[1;32m   1762\u001b[0m     executing_eagerly)\n\u001b[1;32m   1763\u001b[0m forward_function, args_with_tangents \u001b[38;5;241m=\u001b[39m forward_backward\u001b[38;5;241m.\u001b[39mforward()\n",
      "File \u001b[0;32m~/env_tf/lib/python3.8/site-packages/tensorflow/python/eager/polymorphic_function/monomorphic_function.py:381\u001b[0m, in \u001b[0;36m_EagerDefinedFunction.call\u001b[0;34m(self, ctx, args, cancellation_manager)\u001b[0m\n\u001b[1;32m    379\u001b[0m \u001b[38;5;28;01mwith\u001b[39;00m _InterpolateFunctionError(\u001b[38;5;28mself\u001b[39m):\n\u001b[1;32m    380\u001b[0m   \u001b[38;5;28;01mif\u001b[39;00m cancellation_manager \u001b[38;5;129;01mis\u001b[39;00m \u001b[38;5;28;01mNone\u001b[39;00m:\n\u001b[0;32m--> 381\u001b[0m     outputs \u001b[38;5;241m=\u001b[39m \u001b[43mexecute\u001b[49m\u001b[38;5;241;43m.\u001b[39;49m\u001b[43mexecute\u001b[49m\u001b[43m(\u001b[49m\n\u001b[1;32m    382\u001b[0m \u001b[43m        \u001b[49m\u001b[38;5;28;43mstr\u001b[39;49m\u001b[43m(\u001b[49m\u001b[38;5;28;43mself\u001b[39;49m\u001b[38;5;241;43m.\u001b[39;49m\u001b[43msignature\u001b[49m\u001b[38;5;241;43m.\u001b[39;49m\u001b[43mname\u001b[49m\u001b[43m)\u001b[49m\u001b[43m,\u001b[49m\n\u001b[1;32m    383\u001b[0m \u001b[43m        \u001b[49m\u001b[43mnum_outputs\u001b[49m\u001b[38;5;241;43m=\u001b[39;49m\u001b[38;5;28;43mself\u001b[39;49m\u001b[38;5;241;43m.\u001b[39;49m\u001b[43m_num_outputs\u001b[49m\u001b[43m,\u001b[49m\n\u001b[1;32m    384\u001b[0m \u001b[43m        \u001b[49m\u001b[43minputs\u001b[49m\u001b[38;5;241;43m=\u001b[39;49m\u001b[43margs\u001b[49m\u001b[43m,\u001b[49m\n\u001b[1;32m    385\u001b[0m \u001b[43m        \u001b[49m\u001b[43mattrs\u001b[49m\u001b[38;5;241;43m=\u001b[39;49m\u001b[43mattrs\u001b[49m\u001b[43m,\u001b[49m\n\u001b[1;32m    386\u001b[0m \u001b[43m        \u001b[49m\u001b[43mctx\u001b[49m\u001b[38;5;241;43m=\u001b[39;49m\u001b[43mctx\u001b[49m\u001b[43m)\u001b[49m\n\u001b[1;32m    387\u001b[0m   \u001b[38;5;28;01melse\u001b[39;00m:\n\u001b[1;32m    388\u001b[0m     outputs \u001b[38;5;241m=\u001b[39m execute\u001b[38;5;241m.\u001b[39mexecute_with_cancellation(\n\u001b[1;32m    389\u001b[0m         \u001b[38;5;28mstr\u001b[39m(\u001b[38;5;28mself\u001b[39m\u001b[38;5;241m.\u001b[39msignature\u001b[38;5;241m.\u001b[39mname),\n\u001b[1;32m    390\u001b[0m         num_outputs\u001b[38;5;241m=\u001b[39m\u001b[38;5;28mself\u001b[39m\u001b[38;5;241m.\u001b[39m_num_outputs,\n\u001b[0;32m   (...)\u001b[0m\n\u001b[1;32m    393\u001b[0m         ctx\u001b[38;5;241m=\u001b[39mctx,\n\u001b[1;32m    394\u001b[0m         cancellation_manager\u001b[38;5;241m=\u001b[39mcancellation_manager)\n",
      "File \u001b[0;32m~/env_tf/lib/python3.8/site-packages/tensorflow/python/eager/execute.py:52\u001b[0m, in \u001b[0;36mquick_execute\u001b[0;34m(op_name, num_outputs, inputs, attrs, ctx, name)\u001b[0m\n\u001b[1;32m     50\u001b[0m \u001b[38;5;28;01mtry\u001b[39;00m:\n\u001b[1;32m     51\u001b[0m   ctx\u001b[38;5;241m.\u001b[39mensure_initialized()\n\u001b[0;32m---> 52\u001b[0m   tensors \u001b[38;5;241m=\u001b[39m \u001b[43mpywrap_tfe\u001b[49m\u001b[38;5;241;43m.\u001b[39;49m\u001b[43mTFE_Py_Execute\u001b[49m\u001b[43m(\u001b[49m\u001b[43mctx\u001b[49m\u001b[38;5;241;43m.\u001b[39;49m\u001b[43m_handle\u001b[49m\u001b[43m,\u001b[49m\u001b[43m \u001b[49m\u001b[43mdevice_name\u001b[49m\u001b[43m,\u001b[49m\u001b[43m \u001b[49m\u001b[43mop_name\u001b[49m\u001b[43m,\u001b[49m\n\u001b[1;32m     53\u001b[0m \u001b[43m                                      \u001b[49m\u001b[43minputs\u001b[49m\u001b[43m,\u001b[49m\u001b[43m \u001b[49m\u001b[43mattrs\u001b[49m\u001b[43m,\u001b[49m\u001b[43m \u001b[49m\u001b[43mnum_outputs\u001b[49m\u001b[43m)\u001b[49m\n\u001b[1;32m     54\u001b[0m \u001b[38;5;28;01mexcept\u001b[39;00m core\u001b[38;5;241m.\u001b[39m_NotOkStatusException \u001b[38;5;28;01mas\u001b[39;00m e:\n\u001b[1;32m     55\u001b[0m   \u001b[38;5;28;01mif\u001b[39;00m name \u001b[38;5;129;01mis\u001b[39;00m \u001b[38;5;129;01mnot\u001b[39;00m \u001b[38;5;28;01mNone\u001b[39;00m:\n",
      "\u001b[0;31mKeyboardInterrupt\u001b[0m: "
     ]
    }
   ],
   "source": [
    "# Model fitting on the train data and evaluating performance with test data for validation\n",
    "history = model.fit(\n",
    "    train_generator,\n",
    "    validation_data=test_generator,\n",
    "    epochs=10,\n",
    "    callbacks=[early_stopping]\n",
    ")"
   ]
  },
  {
   "cell_type": "code",
   "execution_count": 107,
   "id": "ad736031-1491-49bf-9a8d-1c774753956c",
   "metadata": {},
   "outputs": [
    {
     "name": "stderr",
     "output_type": "stream",
     "text": [
      "2024-11-20 10:30:05.174630: I tensorflow/core/common_runtime/executor.cc:1197] [/device:CPU:0] (DEBUG INFO) Executor start aborting (this does not indicate an error and you can ignore this message): INVALID_ARGUMENT: You must feed a value for placeholder tensor 'Placeholder/_0' with dtype int32\n",
      "\t [[{{node Placeholder/_0}}]]\n"
     ]
    },
    {
     "name": "stdout",
     "output_type": "stream",
     "text": [
      "42/42 [==============================] - 474s 11s/step - loss: 0.9793 - accuracy: 0.5141\n",
      "Test Loss: 0.9792538285255432\n",
      "Test Accuracy: 0.5140898823738098\n"
     ]
    }
   ],
   "source": [
    "loss, accuracy = model.evaluate(test_generator)\n",
    "print(f\"Test Loss: {loss}\")\n",
    "print(f\"Test Accuracy: {accuracy}\")"
   ]
  },
  {
   "cell_type": "code",
   "execution_count": 108,
   "id": "d1dc3d65-9800-4226-be6f-a91436fb382c",
   "metadata": {},
   "outputs": [],
   "source": [
    "model_path = '/Users/sibikarthik/**R2S PROJECT/Models/ct_chest_cancer_vgg_5.h5'\n",
    "model.save(model_path)"
   ]
  },
  {
   "cell_type": "code",
   "execution_count": 110,
   "id": "e96a377c-445e-48bd-892d-87884d9a3b3c",
   "metadata": {},
   "outputs": [],
   "source": [
    "def predict_image(image_path):\n",
    "    # Loading the trained model\n",
    "    model = load_model(model_path)\n",
    "    \n",
    "    # Loading and preprocessing of the image\n",
    "    img = image.load_img(image_path, target_size=(224, 224))\n",
    "    img_array = image.img_to_array(img) / 255.0  # Normalize\n",
    "    img_array = np.expand_dims(img_array, axis=0)  # Add batch dimension\n",
    "\n",
    "    # Prediction of the class\n",
    "    predictions = model.predict(img_array)\n",
    "    predicted_class_index = np.argmax(predictions)\n",
    "    class_labels = list(train_generator.class_indices.keys())\n",
    "    predicted_class = class_labels[predicted_class_index]\n",
    "    \n",
    "    return predicted_class"
   ]
  },
  {
   "cell_type": "code",
   "execution_count": null,
   "id": "79530b0b-cc52-495b-867e-7f45426b2b44",
   "metadata": {},
   "outputs": [],
   "source": [
    "# Example usage: Upload an image and check the prediction\n",
    "model = load_model('/Users/sibikarthik/**R2S PROJECT/Models/ct_chest_cancer_vgg_5.h5')\n",
    "image_path = '/Users/sibikarthik/**R2S PROJECT/Data 5 (CT - Chest Cancer)/train/Adenocarcinoma/000015 (9).png'\n",
    "result = predict_image(image_path)\n",
    "print(f\"The uploaded image is predicted to be: {result}\")"
   ]
  },
  {
   "cell_type": "markdown",
   "id": "ee775054-1eaf-4cad-98f8-931d91284ee8",
   "metadata": {},
   "source": [
    "####"
   ]
  },
  {
   "cell_type": "markdown",
   "id": "7fca4575-a2a3-451f-83f1-bd8baa0fd568",
   "metadata": {},
   "source": [
    "### Final Prediction of Image (all 5 stages)"
   ]
  },
  {
   "cell_type": "code",
   "execution_count": null,
   "id": "179b4834-c7e4-4c4c-8115-bbe0f5d7db21",
   "metadata": {},
   "outputs": [],
   "source": [
    "import pandas as pd\n",
    "import numpy as np\n",
    "from tensorflow.keras.preprocessing import image\n",
    "from tensorflow.keras.applications.imagenet_utils import preprocess_input\n",
    "\n",
    "model = load_model('/Users/sibikarthik/**R2S PROJECT/Models/initial_cnn_1.h5')\n",
    "model = load_model('/Users/sibikarthik/**R2S PROJECT/Models/xray_resnet_2.h5')\n",
    "model = load_model('/Users/sibikarthik/**R2S PROJECT/Models/mri_densenet_3.h5')\n",
    "model = load_model('/Users/sibikarthik/**R2S PROJECT/Models/ct_chest_kidney_vgg_4.h5')\n",
    "model = load_model('/Users/sibikarthik/**R2S PROJECT/Models/ct_chest_cancer_vgg_5.h5')\n",
    "\n",
    "img = image.load_img(\"/kaggle/input/chest-xray-covid19-pneumonia/Data/test/COVID19/COVID19(460).jpg\",target_size=(224,224))\n",
    "\n",
    "x = image.img_to_array(img)\n",
    "x = x/255\n",
    "x = np.expand_dims(x, axis=0)\n",
    "img_data = preprocess_input(x)\n",
    "img_data.shape\n",
    "preds = model.predict(x)\n",
    "preds = np.argmax(preds, axis=1)\n",
    "\n",
    "if preds == 0:\n",
    "    preds = \"The image is Covid19\"\n",
    "elif preds == 1:\n",
    "    preds = \"The image is NORMAL\"\n",
    "else:\n",
    "    preds = \"The image is Pneumonia\"\n",
    "print(preds)"
   ]
  }
 ],
 "metadata": {
  "kernelspec": {
   "display_name": "Python 3 (ipykernel)",
   "language": "python",
   "name": "python3"
  },
  "language_info": {
   "codemirror_mode": {
    "name": "ipython",
    "version": 3
   },
   "file_extension": ".py",
   "mimetype": "text/x-python",
   "name": "python",
   "nbconvert_exporter": "python",
   "pygments_lexer": "ipython3",
   "version": "3.8.20"
  }
 },
 "nbformat": 4,
 "nbformat_minor": 5
}
